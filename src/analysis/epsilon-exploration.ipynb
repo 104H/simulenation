{
 "cells": [
  {
   "cell_type": "code",
   "execution_count": 1,
   "id": "6c1919c9",
   "metadata": {},
   "outputs": [],
   "source": [
    "import nest"
   ]
  },
  {
   "cell_type": "markdown",
   "id": "290b5b39",
   "metadata": {},
   "source": [
    "## MGN -> eA1 Destexhe Size"
   ]
  },
  {
   "cell_type": "code",
   "execution_count": 15,
   "id": "98aa033a",
   "metadata": {},
   "outputs": [
    {
     "name": "stdout",
     "output_type": "stream",
     "text": [
      "Arithmetically computed :  3200.0\n",
      "Actual Count :  3236\n",
      "Conn per Target Neuron :  2.0225\n",
      "Conn per Source Neuron :  32.36\n"
     ]
    }
   ],
   "source": [
    "nest.ResetKernel()\n",
    "\n",
    "nMGN, neA1, epsilon = 100, 1600, 0.02\n",
    "\n",
    "MGN = nest.Create('iaf_psc_alpha', nMGN)\n",
    "eA1 = nest.Create('iaf_psc_alpha', neA1)\n",
    "\n",
    "conn_spec_dict = {'rule': 'pairwise_bernoulli', 'p': epsilon}\n",
    "\n",
    "nest.Connect(MGN, eA1, conn_spec_dict)\n",
    "\n",
    "conns = nest.GetConnections().get()\n",
    "\n",
    "print(\"Arithmetically computed : \", (nMGN * neA1) * epsilon)\n",
    "\n",
    "print(\"Actual Count : \", len(conns['delay']))\n",
    "\n",
    "print(\"Conn per Target Neuron : \", len(conns['delay']) / (neA1))\n",
    "print(\"Conn per Source Neuron : \", len(conns['delay']) / (nMGN))"
   ]
  },
  {
   "cell_type": "markdown",
   "id": "f56441e8",
   "metadata": {},
   "source": [
    "## MGN -> eA1 Scaled Up"
   ]
  },
  {
   "cell_type": "code",
   "execution_count": 17,
   "id": "3805dc24",
   "metadata": {},
   "outputs": [
    {
     "name": "stdout",
     "output_type": "stream",
     "text": [
      "Arithmetically computed :  4000.0\n",
      "Actual Count :  4146\n",
      "Conn per Target Neuron :  2.073\n",
      "Conn per Source Neuron :  20.73\n"
     ]
    }
   ],
   "source": [
    "nest.ResetKernel()\n",
    "\n",
    "nMGN, neA1, epsilon = 200, 2000, 0.01\n",
    "\n",
    "MGN = nest.Create('iaf_psc_alpha', nMGN)\n",
    "eA1 = nest.Create('iaf_psc_alpha', neA1)\n",
    "\n",
    "conn_spec_dict = {'rule': 'pairwise_bernoulli', 'p': epsilon}\n",
    "\n",
    "nest.Connect(MGN, eA1, conn_spec_dict)\n",
    "\n",
    "conns = nest.GetConnections().get()\n",
    "\n",
    "print(\"Arithmetically computed : \", (nMGN * neA1) * epsilon)\n",
    "\n",
    "print(\"Actual Count : \", len(conns['delay']))\n",
    "\n",
    "print(\"Conn per Target Neuron : \", len(conns['delay']) / (neA1))\n",
    "print(\"Conn per Source Neuron : \", len(conns['delay']) / (nMGN))"
   ]
  },
  {
   "cell_type": "markdown",
   "id": "c90e2591",
   "metadata": {},
   "source": [
    "# MGN -> TRN Destexhe Size"
   ]
  },
  {
   "cell_type": "code",
   "execution_count": 33,
   "id": "8b5ffcb1",
   "metadata": {},
   "outputs": [
    {
     "name": "stdout",
     "output_type": "stream",
     "text": [
      "Arithmetically computed :  200.0\n",
      "Actual Count :  183\n",
      "Actual Probability :  0.0183\n"
     ]
    }
   ],
   "source": [
    "nest.ResetKernel()\n",
    "\n",
    "nMGN, nTRN, epsilon = 100, 100, 0.02\n",
    "\n",
    "MGN = nest.Create('iaf_psc_alpha', nMGN)\n",
    "TRN = nest.Create('iaf_psc_alpha', nTRN)\n",
    "\n",
    "conn_spec_dict = {'rule': 'pairwise_bernoulli', 'p': epsilon}\n",
    "\n",
    "nest.Connect(MGN, TRN, conn_spec_dict)\n",
    "\n",
    "conns = nest.GetConnections().get()\n",
    "\n",
    "print(\"Arithmetically computed : \", (nMGN * nTRN) * epsilon)\n",
    "\n",
    "print(\"Actual Count : \", len(conns['delay']))\n",
    "\n",
    "print(\"Actual Probability : \", len(conns['delay']) / (nMGN*nTRN))"
   ]
  },
  {
   "cell_type": "markdown",
   "id": "5f6ab034",
   "metadata": {},
   "source": [
    "# MGN -> TRN Scaled Up"
   ]
  },
  {
   "cell_type": "code",
   "execution_count": 34,
   "id": "feea82b3",
   "metadata": {},
   "outputs": [
    {
     "name": "stdout",
     "output_type": "stream",
     "text": [
      "Arithmetically computed :  400.0\n",
      "Actual Count :  420\n",
      "Actual Probability :  0.0105\n"
     ]
    }
   ],
   "source": [
    "nest.ResetKernel()\n",
    "\n",
    "nMGN, nTRN, epsilon = 200, 200, 0.01\n",
    "\n",
    "MGN = nest.Create('iaf_psc_alpha', nMGN)\n",
    "TRN = nest.Create('iaf_psc_alpha', nTRN)\n",
    "\n",
    "conn_spec_dict = {'rule': 'pairwise_bernoulli', 'p': epsilon}\n",
    "\n",
    "nest.Connect(MGN, TRN, conn_spec_dict)\n",
    "\n",
    "conns = nest.GetConnections().get()\n",
    "\n",
    "print(\"Arithmetically computed : \", (nMGN * nTRN) * epsilon)\n",
    "\n",
    "print(\"Actual Count : \", len(conns['delay']))\n",
    "\n",
    "print(\"Actual Probability : \", len(conns['delay']) / (nMGN*nTRN))"
   ]
  },
  {
   "cell_type": "code",
   "execution_count": 35,
   "id": "6cd770d8",
   "metadata": {},
   "outputs": [
    {
     "name": "stdout",
     "output_type": "stream",
     "text": [
      "Arithmetically computed :  200.0\n",
      "Actual Count :  219\n",
      "Actual Probability :  0.005475\n"
     ]
    }
   ],
   "source": [
    "nest.ResetKernel()\n",
    "\n",
    "nMGN, nTRN, epsilon = 200, 200, 0.005\n",
    "\n",
    "MGN = nest.Create('iaf_psc_alpha', nMGN)\n",
    "TRN = nest.Create('iaf_psc_alpha', nTRN)\n",
    "\n",
    "conn_spec_dict = {'rule': 'pairwise_bernoulli', 'p': epsilon}\n",
    "\n",
    "nest.Connect(MGN, TRN, conn_spec_dict)\n",
    "\n",
    "conns = nest.GetConnections().get()\n",
    "\n",
    "print(\"Arithmetically computed : \", (nMGN * nTRN) * epsilon)\n",
    "\n",
    "print(\"Actual Count : \", len(conns['delay']))\n",
    "\n",
    "print(\"Actual Probability : \", len(conns['delay']) / (nMGN*nTRN))"
   ]
  },
  {
   "cell_type": "code",
   "execution_count": 72,
   "id": "0a6e408f",
   "metadata": {},
   "outputs": [
    {
     "name": "stdout",
     "output_type": "stream",
     "text": [
      "Arithmetically computed :  10.0\n",
      "Actual Count :  7\n",
      "Actual Probability :  0.007\n"
     ]
    }
   ],
   "source": [
    "\n",
    "nest.ResetKernel()\n",
    "\n",
    "nMGN, nTRN, epsilon = 20, 50, 0.01\n",
    "\n",
    "MGN = nest.Create('iaf_psc_alpha', nMGN)\n",
    "TRN = nest.Create('iaf_psc_alpha', nTRN)\n",
    "\n",
    "conn_spec_dict = {'rule': 'pairwise_bernoulli', 'p': epsilon}\n",
    "\n",
    "nest.Connect(MGN, TRN, conn_spec_dict)\n",
    "\n",
    "conns = nest.GetConnections().get()\n",
    "\n",
    "print(\"Arithmetically computed : \", (nMGN * nTRN) * epsilon)\n",
    "\n",
    "print(\"Actual Count : \", len(conns['delay']))\n",
    "\n",
    "print(\"Actual Probability : \", len(conns['delay']) / (nMGN*nTRN))"
   ]
  }
 ],
 "metadata": {
  "kernelspec": {
   "display_name": "Python 3 (ipykernel)",
   "language": "python",
   "name": "python3"
  },
  "language_info": {
   "codemirror_mode": {
    "name": "ipython",
    "version": 3
   },
   "file_extension": ".py",
   "mimetype": "text/x-python",
   "name": "python",
   "nbconvert_exporter": "python",
   "pygments_lexer": "ipython3",
   "version": "3.9.7"
  }
 },
 "nbformat": 4,
 "nbformat_minor": 5
}
