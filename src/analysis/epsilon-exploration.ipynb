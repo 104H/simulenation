{
 "cells": [
  {
   "cell_type": "code",
   "execution_count": 1,
   "id": "93c1e30a",
   "metadata": {},
   "outputs": [],
   "source": [
    "import nest"
   ]
  },
  {
   "cell_type": "markdown",
   "id": "3a141251",
   "metadata": {},
   "source": [
    "## MGN -> eA1 Destexhe Size"
   ]
  },
  {
   "cell_type": "code",
   "execution_count": 31,
   "id": "51dd2189",
   "metadata": {},
   "outputs": [
    {
     "name": "stdout",
     "output_type": "stream",
     "text": [
      "Arithmetically computed :  3200.0\n",
      "Actual Count :  3236\n",
      "Actual Probability :  0.020225\n"
     ]
    }
   ],
   "source": [
    "nest.ResetKernel()\n",
    "\n",
    "nMGN, neA1, epsilon = 100, 1600, 0.02\n",
    "\n",
    "MGN = nest.Create('iaf_psc_alpha', nMGN)\n",
    "eA1 = nest.Create('iaf_psc_alpha', neA1)\n",
    "\n",
    "conn_spec_dict = {'rule': 'pairwise_bernoulli', 'p': epsilon}\n",
    "\n",
    "nest.Connect(MGN, eA1, conn_spec_dict)\n",
    "\n",
    "conns = nest.GetConnections().get()\n",
    "\n",
    "print(\"Arithmetically computed : \", (nMGN * neA1) * epsilon)\n",
    "\n",
    "print(\"Actual Count : \", len(conns['delay']))\n",
    "\n",
    "print(\"Actual Probability : \", len(conns['delay']) / (nMGN*neA1))"
   ]
  },
  {
   "cell_type": "markdown",
   "id": "a5df4b0d",
   "metadata": {},
   "source": [
    "## MGN -> eA1 Scaled Up"
   ]
  },
  {
   "cell_type": "code",
   "execution_count": 32,
   "id": "aa1b8afd",
   "metadata": {},
   "outputs": [
    {
     "name": "stdout",
     "output_type": "stream",
     "text": [
      "Arithmetically computed :  3200.0\n",
      "Actual Count :  3296\n",
      "Actual Probability :  0.00824\n"
     ]
    }
   ],
   "source": [
    "nest.ResetKernel()\n",
    "\n",
    "nMGN, neA1, epsilon = 200, 2000, 0.008\n",
    "\n",
    "MGN = nest.Create('iaf_psc_alpha', nMGN)\n",
    "eA1 = nest.Create('iaf_psc_alpha', neA1)\n",
    "\n",
    "conn_spec_dict = {'rule': 'pairwise_bernoulli', 'p': epsilon}\n",
    "\n",
    "nest.Connect(MGN, eA1, conn_spec_dict)\n",
    "\n",
    "conns = nest.GetConnections().get()\n",
    "\n",
    "print(\"Arithmetically computed : \", (nMGN * neA1) * epsilon)\n",
    "\n",
    "print(\"Actual Count : \", len(conns['delay']))\n",
    "\n",
    "print(\"Actual Probability : \", len(conns['delay']) / (nMGN*neA1))"
   ]
  },
  {
   "cell_type": "markdown",
   "id": "fbfcaef9",
   "metadata": {},
   "source": [
    "# MGN -> TRN Destexhe Size"
   ]
  },
  {
   "cell_type": "code",
   "execution_count": 33,
   "id": "18b2aea1",
   "metadata": {},
   "outputs": [
    {
     "name": "stdout",
     "output_type": "stream",
     "text": [
      "Arithmetically computed :  200.0\n",
      "Actual Count :  183\n",
      "Actual Probability :  0.0183\n"
     ]
    }
   ],
   "source": [
    "nest.ResetKernel()\n",
    "\n",
    "nMGN, nTRN, epsilon = 100, 100, 0.02\n",
    "\n",
    "MGN = nest.Create('iaf_psc_alpha', nMGN)\n",
    "TRN = nest.Create('iaf_psc_alpha', nTRN)\n",
    "\n",
    "conn_spec_dict = {'rule': 'pairwise_bernoulli', 'p': epsilon}\n",
    "\n",
    "nest.Connect(MGN, TRN, conn_spec_dict)\n",
    "\n",
    "conns = nest.GetConnections().get()\n",
    "\n",
    "print(\"Arithmetically computed : \", (nMGN * nTRN) * epsilon)\n",
    "\n",
    "print(\"Actual Count : \", len(conns['delay']))\n",
    "\n",
    "print(\"Actual Probability : \", len(conns['delay']) / (nMGN*nTRN))"
   ]
  },
  {
   "cell_type": "markdown",
   "id": "25a560a2",
   "metadata": {},
   "source": [
    "# MGN -> TRN Scaled Up"
   ]
  },
  {
   "cell_type": "code",
   "execution_count": 34,
   "id": "9d2ec192",
   "metadata": {},
   "outputs": [
    {
     "name": "stdout",
     "output_type": "stream",
     "text": [
      "Arithmetically computed :  400.0\n",
      "Actual Count :  420\n",
      "Actual Probability :  0.0105\n"
     ]
    }
   ],
   "source": [
    "nest.ResetKernel()\n",
    "\n",
    "nMGN, nTRN, epsilon = 200, 200, 0.01\n",
    "\n",
    "MGN = nest.Create('iaf_psc_alpha', nMGN)\n",
    "TRN = nest.Create('iaf_psc_alpha', nTRN)\n",
    "\n",
    "conn_spec_dict = {'rule': 'pairwise_bernoulli', 'p': epsilon}\n",
    "\n",
    "nest.Connect(MGN, TRN, conn_spec_dict)\n",
    "\n",
    "conns = nest.GetConnections().get()\n",
    "\n",
    "print(\"Arithmetically computed : \", (nMGN * nTRN) * epsilon)\n",
    "\n",
    "print(\"Actual Count : \", len(conns['delay']))\n",
    "\n",
    "print(\"Actual Probability : \", len(conns['delay']) / (nMGN*nTRN))"
   ]
  },
  {
   "cell_type": "code",
   "execution_count": 35,
   "id": "a3080e59",
   "metadata": {},
   "outputs": [
    {
     "name": "stdout",
     "output_type": "stream",
     "text": [
      "Arithmetically computed :  200.0\n",
      "Actual Count :  219\n",
      "Actual Probability :  0.005475\n"
     ]
    }
   ],
   "source": [
    "nest.ResetKernel()\n",
    "\n",
    "nMGN, nTRN, epsilon = 200, 200, 0.005\n",
    "\n",
    "MGN = nest.Create('iaf_psc_alpha', nMGN)\n",
    "TRN = nest.Create('iaf_psc_alpha', nTRN)\n",
    "\n",
    "conn_spec_dict = {'rule': 'pairwise_bernoulli', 'p': epsilon}\n",
    "\n",
    "nest.Connect(MGN, TRN, conn_spec_dict)\n",
    "\n",
    "conns = nest.GetConnections().get()\n",
    "\n",
    "print(\"Arithmetically computed : \", (nMGN * nTRN) * epsilon)\n",
    "\n",
    "print(\"Actual Count : \", len(conns['delay']))\n",
    "\n",
    "print(\"Actual Probability : \", len(conns['delay']) / (nMGN*nTRN))"
   ]
  }
 ],
 "metadata": {
  "kernelspec": {
   "display_name": "Python 3 (ipykernel)",
   "language": "python",
   "name": "python3"
  },
  "language_info": {
   "codemirror_mode": {
    "name": "ipython",
    "version": 3
   },
   "file_extension": ".py",
   "mimetype": "text/x-python",
   "name": "python",
   "nbconvert_exporter": "python",
   "pygments_lexer": "ipython3",
   "version": "3.9.7"
  }
 },
 "nbformat": 4,
 "nbformat_minor": 5
}
