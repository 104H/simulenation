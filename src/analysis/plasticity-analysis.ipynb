{
 "cells": [
  {
   "cell_type": "code",
   "execution_count": 1,
   "id": "7a68238b",
   "metadata": {},
   "outputs": [
    {
     "name": "stdout",
     "output_type": "stream",
     "text": [
      "** mayavi.mlab ** package is not installed. To have functions using mayavi.mlab please install the package.\n",
      "** pyspike ** package is not installed. To have functions using pyspike please install the package.\n",
      "** pyspike ** package is not installed. To have functions using pyspike please install the package.\n"
     ]
    }
   ],
   "source": [
    "import pandas as pd\n",
    "from matplotlib import pyplot as plt\n",
    "import numpy as np\n",
    "from fna.tools.signals import make_simple_kernel, pad_array\n",
    "\n",
    "import os\n",
    "import sys\n",
    "import re\n",
    "import sys"
   ]
  },
  {
   "cell_type": "code",
   "execution_count": 2,
   "id": "65d8f189",
   "metadata": {},
   "outputs": [],
   "source": [
    "sys.path.append(\"demyelination/\") # we need this to successfully read pickle files"
   ]
  },
  {
   "cell_type": "code",
   "execution_count": 9,
   "id": "1d341798",
   "metadata": {
    "scrolled": true
   },
   "outputs": [
    {
     "name": "stdout",
     "output_type": "stream",
     "text": [
      "'spk_plasticity-aone_T=0_eCa=0.01_iCa=0.01_0'\r\n",
      "'spk_plasticity-aone_T=0_eCa=0.01_iCa=0.01_1'\r\n",
      "'spk_plasticity-aone_T=0_eCa=0.01_iCa=0.01_2'\r\n",
      "'spk_plasticity-aone_T=0_eCa=0.01_iCa=0.01_3'\r\n",
      "'spk_plasticity-aone_T=0_eCa=0.01_iCa=0.01_4'\r\n",
      "'spk_plasticity-aone_T=0_eCa=0.01_iCa=0.01_5'\r\n",
      "'spk_plasticity-aone_T=0_eCa=0.01_iCa=0.01_6'\r\n",
      "'spk_plasticity-aone_T=0_eCa=0.01_iCa=0.01_7'\r\n",
      "'spk_plasticity-aone_T=0_eCa=0.02_iCa=0.02_0'\r\n",
      "'spk_plasticity-aone_T=0_eCa=0.02_iCa=0.02_1'\r\n",
      "'spk_plasticity-aone_T=0_eCa=0.02_iCa=0.02_2'\r\n",
      "'spk_plasticity-aone_T=0_eCa=0.02_iCa=0.02_3'\r\n",
      "'spk_plasticity-aone_T=0_eCa=0.02_iCa=0.02_4'\r\n",
      "'spk_plasticity-aone_T=0_eCa=0.02_iCa=0.02_5'\r\n",
      "'spk_plasticity-aone_T=0_eCa=0.02_iCa=0.02_6'\r\n",
      "'spk_plasticity-aone_T=0_eCa=0.02_iCa=0.02_7'\r\n",
      "'spk_plasticity-aone_T=0_eCa=0.05_iCa=0.05_0'\r\n",
      "'spk_plasticity-aone_T=0_eCa=0.05_iCa=0.05_1'\r\n",
      "'spk_plasticity-aone_T=0_eCa=0.05_iCa=0.05_2'\r\n",
      "'spk_plasticity-aone_T=0_eCa=0.05_iCa=0.05_3'\r\n",
      "'spk_plasticity-aone_T=0_eCa=0.05_iCa=0.05_4'\r\n",
      "'spk_plasticity-aone_T=0_eCa=0.05_iCa=0.05_5'\r\n",
      "'spk_plasticity-aone_T=0_eCa=0.05_iCa=0.05_6'\r\n",
      "'spk_plasticity-aone_T=0_eCa=0.05_iCa=0.05_7'\r\n",
      "'spk_plasticity-aone_T=0_eCa=0.05_iCa=0.2_0'\r\n",
      "'spk_plasticity-aone_T=0_eCa=0.05_iCa=0.2_1'\r\n",
      "'spk_plasticity-aone_T=0_eCa=0.05_iCa=0.2_2'\r\n",
      "'spk_plasticity-aone_T=0_eCa=0.05_iCa=0.2_3'\r\n",
      "'spk_plasticity-aone_T=0_eCa=0.05_iCa=0.2_4'\r\n",
      "'spk_plasticity-aone_T=0_eCa=0.05_iCa=0.2_5'\r\n",
      "'spk_plasticity-aone_T=0_eCa=0.05_iCa=0.2_6'\r\n",
      "'spk_plasticity-aone_T=0_eCa=0.05_iCa=0.2_7'\r\n",
      "'spk_plasticity-aone_T=0_eCa=0.08_iCa=0.08_0'\r\n",
      "'spk_plasticity-aone_T=0_eCa=0.08_iCa=0.08_1'\r\n",
      "'spk_plasticity-aone_T=0_eCa=0.08_iCa=0.08_2'\r\n",
      "'spk_plasticity-aone_T=0_eCa=0.08_iCa=0.08_3'\r\n",
      "'spk_plasticity-aone_T=0_eCa=0.08_iCa=0.08_4'\r\n",
      "'spk_plasticity-aone_T=0_eCa=0.08_iCa=0.08_5'\r\n",
      "'spk_plasticity-aone_T=0_eCa=0.08_iCa=0.08_6'\r\n",
      "'spk_plasticity-aone_T=0_eCa=0.08_iCa=0.08_7'\r\n",
      "'spk_plasticity-aone_T=0_eCa=0.1_iCa=0.1_0'\r\n",
      "'spk_plasticity-aone_T=0_eCa=0.1_iCa=0.1_1'\r\n",
      "'spk_plasticity-aone_T=0_eCa=0.1_iCa=0.1_2'\r\n",
      "'spk_plasticity-aone_T=0_eCa=0.1_iCa=0.1_3'\r\n",
      "'spk_plasticity-aone_T=0_eCa=0.1_iCa=0.1_4'\r\n",
      "'spk_plasticity-aone_T=0_eCa=0.1_iCa=0.1_5'\r\n",
      "'spk_plasticity-aone_T=0_eCa=0.1_iCa=0.1_6'\r\n",
      "'spk_plasticity-aone_T=0_eCa=0.1_iCa=0.1_7'\r\n",
      "'spk_plasticity-aone_T=0_eCa=0.1_iCa=0.2_0'\r\n",
      "'spk_plasticity-aone_T=0_eCa=0.1_iCa=0.2_1'\r\n",
      "'spk_plasticity-aone_T=0_eCa=0.1_iCa=0.2_2'\r\n",
      "'spk_plasticity-aone_T=0_eCa=0.1_iCa=0.2_3'\r\n",
      "'spk_plasticity-aone_T=0_eCa=0.1_iCa=0.2_4'\r\n",
      "'spk_plasticity-aone_T=0_eCa=0.1_iCa=0.2_5'\r\n",
      "'spk_plasticity-aone_T=0_eCa=0.1_iCa=0.2_6'\r\n",
      "'spk_plasticity-aone_T=0_eCa=0.1_iCa=0.2_7'\r\n",
      "'spk_plasticity-aone_T=0_eCa=0.2_iCa=0.1_0'\r\n",
      "'spk_plasticity-aone_T=0_eCa=0.2_iCa=0.1_1'\r\n",
      "'spk_plasticity-aone_T=0_eCa=0.2_iCa=0.1_2'\r\n",
      "'spk_plasticity-aone_T=0_eCa=0.2_iCa=0.1_3'\r\n",
      "'spk_plasticity-aone_T=0_eCa=0.2_iCa=0.1_4'\r\n",
      "'spk_plasticity-aone_T=0_eCa=0.2_iCa=0.1_5'\r\n",
      "'spk_plasticity-aone_T=0_eCa=0.2_iCa=0.1_6'\r\n",
      "'spk_plasticity-aone_T=0_eCa=0.2_iCa=0.1_7'\r\n",
      "'spk_plasticity-aone_T=0_eCa=0.2_iCa=0.2_0'\r\n",
      "'spk_plasticity-aone_T=0_eCa=0.2_iCa=0.2_1'\r\n",
      "'spk_plasticity-aone_T=0_eCa=0.2_iCa=0.2_2'\r\n",
      "'spk_plasticity-aone_T=0_eCa=0.2_iCa=0.2_3'\r\n",
      "'spk_plasticity-aone_T=0_eCa=0.2_iCa=0.2_4'\r\n",
      "'spk_plasticity-aone_T=0_eCa=0.2_iCa=0.2_5'\r\n",
      "'spk_plasticity-aone_T=0_eCa=0.2_iCa=0.2_6'\r\n",
      "'spk_plasticity-aone_T=0_eCa=0.2_iCa=0.2_7'\r\n",
      "'spk_plasticity-aone_T=0_eCa=0.4_iCa=0.2_0'\r\n",
      "'spk_plasticity-aone_T=0_eCa=0.4_iCa=0.2_1'\r\n",
      "'spk_plasticity-aone_T=0_eCa=0.4_iCa=0.2_2'\r\n",
      "'spk_plasticity-aone_T=0_eCa=0.4_iCa=0.2_3'\r\n",
      "'spk_plasticity-aone_T=0_eCa=0.4_iCa=0.2_4'\r\n",
      "'spk_plasticity-aone_T=0_eCa=0.4_iCa=0.2_5'\r\n",
      "'spk_plasticity-aone_T=0_eCa=0.4_iCa=0.2_6'\r\n",
      "'spk_plasticity-aone_T=0_eCa=0.4_iCa=0.2_7'\r\n",
      "'spk_plasticity-aone_T=0_eCa=0.4_iCa=0.3_0'\r\n",
      "'spk_plasticity-aone_T=0_eCa=0.4_iCa=0.3_1'\r\n",
      "'spk_plasticity-aone_T=0_eCa=0.4_iCa=0.3_2'\r\n",
      "'spk_plasticity-aone_T=0_eCa=0.4_iCa=0.3_3'\r\n",
      "'spk_plasticity-aone_T=0_eCa=0.4_iCa=0.3_4'\r\n",
      "'spk_plasticity-aone_T=0_eCa=0.4_iCa=0.3_5'\r\n",
      "'spk_plasticity-aone_T=0_eCa=0.4_iCa=0.3_6'\r\n",
      "'spk_plasticity-aone_T=0_eCa=0.4_iCa=0.3_7'\r\n",
      "'spk_plasticity-aone_T=0_eCa=0.4_iCa=0.4_0'\r\n",
      "'spk_plasticity-aone_T=0_eCa=0.4_iCa=0.4_1'\r\n",
      "'spk_plasticity-aone_T=0_eCa=0.4_iCa=0.4_2'\r\n",
      "'spk_plasticity-aone_T=0_eCa=0.4_iCa=0.4_3'\r\n",
      "'spk_plasticity-aone_T=0_eCa=0.4_iCa=0.4_4'\r\n",
      "'spk_plasticity-aone_T=0_eCa=0.4_iCa=0.4_5'\r\n",
      "'spk_plasticity-aone_T=0_eCa=0.4_iCa=0.4_6'\r\n",
      "'spk_plasticity-aone_T=0_eCa=0.4_iCa=0.4_7'\r\n",
      "'spk_plasticity-aone_T=0_eCa=0.5_iCa=0.5_0'\r\n",
      "'spk_plasticity-aone_T=0_eCa=0.5_iCa=0.5_1'\r\n",
      "'spk_plasticity-aone_T=0_eCa=0.5_iCa=0.5_2'\r\n",
      "'spk_plasticity-aone_T=0_eCa=0.5_iCa=0.5_3'\r\n",
      "'spk_plasticity-aone_T=0_eCa=0.5_iCa=0.5_4'\r\n",
      "'spk_plasticity-aone_T=0_eCa=0.5_iCa=0.5_5'\r\n",
      "'spk_plasticity-aone_T=0_eCa=0.5_iCa=0.5_6'\r\n",
      "'spk_plasticity-aone_T=0_eCa=0.5_iCa=0.5_7'\r\n",
      "'spk_plasticity-aone_T=0_eCa=0.9_iCa=0.9_0'\r\n",
      "'spk_plasticity-aone_T=0_eCa=0.9_iCa=0.9_1'\r\n",
      "'spk_plasticity-aone_T=0_eCa=0.9_iCa=0.9_2'\r\n",
      "'spk_plasticity-aone_T=0_eCa=0.9_iCa=0.9_3'\r\n",
      "'spk_plasticity-aone_T=0_eCa=0.9_iCa=0.9_4'\r\n",
      "'spk_plasticity-aone_T=0_eCa=0.9_iCa=0.9_5'\r\n",
      "'spk_plasticity-aone_T=0_eCa=0.9_iCa=0.9_6'\r\n",
      "'spk_plasticity-aone_T=0_eCa=0.9_iCa=0.9_7'\r\n",
      "'spk_plasticity-aone_T=0_eCa=1.0_iCa=1.0_0'\r\n",
      "'spk_plasticity-aone_T=0_eCa=1.0_iCa=1.0_1'\r\n",
      "'spk_plasticity-aone_T=0_eCa=1.0_iCa=1.0_2'\r\n",
      "'spk_plasticity-aone_T=0_eCa=1.0_iCa=1.0_3'\r\n",
      "'spk_plasticity-aone_T=0_eCa=1.0_iCa=1.0_4'\r\n",
      "'spk_plasticity-aone_T=0_eCa=1.0_iCa=1.0_5'\r\n",
      "'spk_plasticity-aone_T=0_eCa=1.0_iCa=1.0_6'\r\n",
      "'spk_plasticity-aone_T=0_eCa=1.0_iCa=1.0_7'\r\n",
      "'spk_plasticity-aone_T=0_eCa=5_iCa=5_0'\r\n",
      "'spk_plasticity-aone_T=0_eCa=5_iCa=5_1'\r\n",
      "'spk_plasticity-aone_T=0_eCa=5_iCa=5_2'\r\n",
      "'spk_plasticity-aone_T=0_eCa=5_iCa=5_3'\r\n",
      "'spk_plasticity-aone_T=0_eCa=5_iCa=5_4'\r\n",
      "'spk_plasticity-aone_T=0_eCa=5_iCa=5_5'\r\n",
      "'spk_plasticity-aone_T=0_eCa=5_iCa=5_6'\r\n",
      "'spk_plasticity-aone_T=0_eCa=5_iCa=5_7'\r\n",
      "'spk_plasticity-aone_T=1_eCa=0.02_iCa=0.02_0'\r\n",
      "'spk_plasticity-aone_T=1_eCa=0.02_iCa=0.02_1'\r\n",
      "'spk_plasticity-aone_T=1_eCa=0.02_iCa=0.02_2'\r\n",
      "'spk_plasticity-aone_T=1_eCa=0.02_iCa=0.02_3'\r\n",
      "'spk_plasticity-aone_T=1_eCa=0.02_iCa=0.02_4'\r\n",
      "'spk_plasticity-aone_T=1_eCa=0.02_iCa=0.02_5'\r\n",
      "'spk_plasticity-aone_T=1_eCa=0.02_iCa=0.02_6'\r\n",
      "'spk_plasticity-aone_T=1_eCa=0.02_iCa=0.02_7'\r\n",
      "'spk_plasticity-aone_T=1_eCa=0.2_iCa=0.1_0'\r\n",
      "'spk_plasticity-aone_T=1_eCa=0.2_iCa=0.1_1'\r\n",
      "'spk_plasticity-aone_T=1_eCa=0.2_iCa=0.1_2'\r\n",
      "'spk_plasticity-aone_T=1_eCa=0.2_iCa=0.1_3'\r\n",
      "'spk_plasticity-aone_T=1_eCa=0.2_iCa=0.1_4'\r\n",
      "'spk_plasticity-aone_T=1_eCa=0.2_iCa=0.1_5'\r\n",
      "'spk_plasticity-aone_T=1_eCa=0.2_iCa=0.1_6'\r\n",
      "'spk_plasticity-aone_T=1_eCa=0.2_iCa=0.1_7'\r\n",
      "'spk_plasticity-aone_T=1_eCa=0.2_iCa=0.2_0'\r\n",
      "'spk_plasticity-aone_T=1_eCa=0.2_iCa=0.2_1'\r\n",
      "'spk_plasticity-aone_T=1_eCa=0.2_iCa=0.2_2'\r\n",
      "'spk_plasticity-aone_T=1_eCa=0.2_iCa=0.2_3'\r\n",
      "'spk_plasticity-aone_T=1_eCa=0.2_iCa=0.2_4'\r\n",
      "'spk_plasticity-aone_T=1_eCa=0.2_iCa=0.2_5'\r\n",
      "'spk_plasticity-aone_T=1_eCa=0.2_iCa=0.2_6'\r\n",
      "'spk_plasticity-aone_T=1_eCa=0.2_iCa=0.2_7'\r\n",
      "'spk_plasticity-aone_T=1_eCa=0.3_iCa=0.2_0'\r\n",
      "'spk_plasticity-aone_T=1_eCa=0.3_iCa=0.2_1'\r\n",
      "'spk_plasticity-aone_T=1_eCa=0.3_iCa=0.2_2'\r\n",
      "'spk_plasticity-aone_T=1_eCa=0.3_iCa=0.2_3'\r\n",
      "'spk_plasticity-aone_T=1_eCa=0.3_iCa=0.2_4'\r\n",
      "'spk_plasticity-aone_T=1_eCa=0.3_iCa=0.2_5'\r\n",
      "'spk_plasticity-aone_T=1_eCa=0.3_iCa=0.2_6'\r\n",
      "'spk_plasticity-aone_T=1_eCa=0.3_iCa=0.2_7'\r\n",
      "'spk_plasticity-aone_T=1_eCa=0.5_iCa=0.5_0'\r\n",
      "'spk_plasticity-aone_T=1_eCa=0.5_iCa=0.5_1'\r\n",
      "'spk_plasticity-aone_T=1_eCa=0.5_iCa=0.5_2'\r\n",
      "'spk_plasticity-aone_T=1_eCa=0.5_iCa=0.5_3'\r\n",
      "'spk_plasticity-aone_T=1_eCa=0.5_iCa=0.5_4'\r\n",
      "'spk_plasticity-aone_T=1_eCa=0.5_iCa=0.5_5'\r\n",
      "'spk_plasticity-aone_T=1_eCa=0.5_iCa=0.5_6'\r\n",
      "'spk_plasticity-aone_T=1_eCa=0.5_iCa=0.5_7'\r\n",
      "'spk_plasticity-aone_T=1_eCa=0.5_iCa=1.0_0'\r\n",
      "'spk_plasticity-aone_T=1_eCa=0.5_iCa=1.0_1'\r\n",
      "'spk_plasticity-aone_T=1_eCa=0.5_iCa=1.0_2'\r\n",
      "'spk_plasticity-aone_T=1_eCa=0.5_iCa=1.0_3'\r\n",
      "'spk_plasticity-aone_T=1_eCa=0.5_iCa=1.0_4'\r\n",
      "'spk_plasticity-aone_T=1_eCa=0.5_iCa=1.0_5'\r\n",
      "'spk_plasticity-aone_T=1_eCa=0.5_iCa=1.0_6'\r\n",
      "'spk_plasticity-aone_T=1_eCa=0.5_iCa=1.0_7'\r\n",
      "'spk_plasticity-aone_T=1_eCa=2.0_iCa=1.0_0'\r\n",
      "'spk_plasticity-aone_T=1_eCa=2.0_iCa=1.0_1'\r\n",
      "'spk_plasticity-aone_T=1_eCa=2.0_iCa=1.0_2'\r\n",
      "'spk_plasticity-aone_T=1_eCa=2.0_iCa=1.0_3'\r\n",
      "'spk_plasticity-aone_T=1_eCa=2.0_iCa=1.0_4'\r\n",
      "'spk_plasticity-aone_T=1_eCa=2.0_iCa=1.0_5'\r\n",
      "'spk_plasticity-aone_T=1_eCa=2.0_iCa=1.0_6'\r\n",
      "'spk_plasticity-aone_T=1_eCa=2.0_iCa=1.0_7'\r\n",
      "'spk_plasticity-aone_T=9_eCa=0.01_iCa=0.2_0'\r\n",
      "'spk_plasticity-aone_T=9_eCa=0.01_iCa=0.2_1'\r\n",
      "'spk_plasticity-aone_T=9_eCa=0.01_iCa=0.2_2'\r\n",
      "'spk_plasticity-aone_T=9_eCa=0.01_iCa=0.2_3'\r\n",
      "'spk_plasticity-aone_T=9_eCa=0.01_iCa=0.2_4'\r\n",
      "'spk_plasticity-aone_T=9_eCa=0.01_iCa=0.2_5'\r\n",
      "'spk_plasticity-aone_T=9_eCa=0.01_iCa=0.2_6'\r\n",
      "'spk_plasticity-aone_T=9_eCa=0.01_iCa=0.2_7'\r\n"
     ]
    }
   ],
   "source": [
    "! ls demyelination/data/plasticity-aone/activity/"
   ]
  },
  {
   "cell_type": "code",
   "execution_count": 3,
   "id": "3100498a",
   "metadata": {},
   "outputs": [],
   "source": [
    "def percentageconn (conn):\n",
    "    ne = 2000 / 8\n",
    "    ni = 500 / 8\n",
    "    \n",
    "    # populationType_connetionType\n",
    "    ex_ex = [c / ne for c in conn['ex']['eA1']]\n",
    "    ex_in = [c / ne for c in conn['in']['eA1']]\n",
    "\n",
    "    in_ex = [c / ni for c in conn['ex']['eA1']]\n",
    "    in_in = [c / ni for c in conn['in']['eA1']]\n",
    "    \n",
    "    return (ex_ex, ex_in, in_ex, in_in)"
   ]
  },
  {
   "cell_type": "code",
   "execution_count": 427,
   "id": "3f2fa227",
   "metadata": {},
   "outputs": [],
   "source": [
    "def percentageconn (conn):\n",
    "    r = len(conn['ex']['eA1'])\n",
    "    \n",
    "    # populationType_connetionType\n",
    "    ex_ex = [conn['ex']['eA1'][i] / \\\n",
    "        (conn['ex']['eA1'][i] + conn['in']['eA1'][i]) for i in range(r)]\n",
    "    ex_in = [conn['in']['eA1'][i] / \\\n",
    "        (conn['ex']['eA1'][i] + conn['in']['eA1'][i]) for i in range(r)]\n",
    "    \n",
    "    in_ex = [conn['ex']['iA1'][i] / \\\n",
    "        (conn['ex']['iA1'][i] + conn['in']['iA1'][i]) for i in range(r)]\n",
    "    in_in = [conn['in']['iA1'][i] / \\\n",
    "        (conn['ex']['iA1'][i] + conn['in']['iA1'][i]) for i in range(r)]\n",
    "    \n",
    "    return (ex_ex, ex_in, in_ex, in_in)"
   ]
  },
  {
   "cell_type": "code",
   "execution_count": 4,
   "id": "4821577f",
   "metadata": {},
   "outputs": [],
   "source": [
    "def gatherSpikes(path, filename, nthreads, brainPart, neuronIdFirst, neuronIdLast):\n",
    "    '''\n",
    "    Example Usage: \n",
    "    gatherSpikes(\"demyelination/data/adaptation-aone-plast/activity/\", \\\n",
    "                 \"spk_adaptation-aone-plast_T=0_nuX_aone=20.0_gamma_aone=9.0_w_input_aone=15.0_\", \\\n",
    "                 2, \"iA1\", 2001, 2500)\n",
    "    '''\n",
    "    \n",
    "    spikes = {}\n",
    "    files = {}\n",
    "    \n",
    "    # read files\n",
    "    for threadid in range(nthreads):\n",
    "        files[threadid] = pd.read_pickle(path + filename + str(threadid))\n",
    "    \n",
    "    for neuron in range(neuronIdFirst, neuronIdLast+1):\n",
    "        rthread = neuron % nthreads\n",
    "        files[0].spikeobj[brainPart].spiketrains[neuron] = files[rthread].spikeobj[brainPart].spiketrains[neuron]\n",
    "    \n",
    "    return files[0].spikeobj[brainPart]\n",
    "\n",
    "def gatherConnectivity(path, filename, nthreads, brainPart, DenType):\n",
    "    files = {}\n",
    "    # read files\n",
    "    for threadid in range(nthreads):\n",
    "        files[threadid] = pd.read_pickle(path + filename + str(threadid))\n",
    "\n",
    "    conn = np.sum([files[x].connectivity['z_connected']['Den'][DenType][brainPart] for x in range(nthreads)], axis=0)\n",
    "    \n",
    "    return conn\n",
    "\n",
    "\n",
    "def gatherZ(path, filename, nthreads, brainPart, DenType):\n",
    "    files = {}\n",
    "    # read files\n",
    "    for threadid in range(nthreads):\n",
    "        files[threadid] = pd.read_pickle(path + filename + str(threadid))\n",
    "\n",
    "    z = np.sum([files[x].connectivity['z']['Den'][DenType][brainPart] for x in range(nthreads)], axis=0)\n",
    "    \n",
    "    return z\n",
    "\n",
    "def gatherNestConnectivity(path, filename, nthreads, source, target):\n",
    "    files = {}\n",
    "    # read files\n",
    "    for threadid in range(nthreads):\n",
    "        files[threadid] = pd.read_pickle(path + filename + str(threadid))\n",
    "\n",
    "    conn = np.sum([files[x].nestconnectivity[source][target] for x in range(nthreads)], axis=0)\n",
    "    \n",
    "    return conn"
   ]
  },
  {
   "cell_type": "code",
   "execution_count": 20,
   "id": "a3cc7572",
   "metadata": {},
   "outputs": [],
   "source": [
    "fls = [\n",
    "    #\"spk_adaptation-aone-plast_T=1_nuX_aone=20.0_gamma_aone=9.0_w_input_aone=15.0_0\",\n",
    "    \"spk_adaptation-aone-plast_T=4_nuX_aone=20.0_gamma_aone=9.0_w_input_aone=15.0_0\",\n",
    "    \"spk_adaptation-aone-plast_T=0_nuX_aone=20.0_gamma_aone=9.0_w_input_aone=15.0_1\",\n",
    "    \"spk_adaptation-aone-plast_T=5_nuX_aone=16.0_gamma_aone=9.0_w_input_aone=15.0_1\",\n",
    "    \"spk_adaptation-aone-plast_T=9_nuX_aone=16.0_gamma_aone=9.0_w_input_aone=15.0_1\",\n",
    "    \"spk_adaptation-aone-plast_T=9_nuX_aone=16.0_gamma_aone=9.0_w_input_aone=15.0_1\"\n",
    "]\n",
    "\n",
    "fl = fls[3][:-1]\n",
    "\n",
    "pth = \"demyelination/data/adaptation-aone-plast/activity/\"\n",
    "\n",
    "l = 50000+1\n",
    "recordstep = 10000\n",
    "s = recordstep\n",
    "\n",
    "spk = pd.read_pickle(pth + fls[2])\n",
    "\n",
    "def smoothedspikes(spikes):\n",
    "    tau = 10\n",
    "    #spikes = spikes.time_slice(0, l)\n",
    "\n",
    "    kernel = make_simple_kernel('exp', tau=tau, width=100., height=1./tau, resolution=1.)\n",
    "    axis_, rates = spikes.averaged_instantaneous_rate(resolution=1., kernel=kernel, norm=1000)\n",
    "    \n",
    "    return axis_, rates"
   ]
  },
  {
   "cell_type": "code",
   "execution_count": 21,
   "id": "aecd38d8",
   "metadata": {},
   "outputs": [],
   "source": [
    "eA1spikes = gatherSpikes(\"demyelination/data/adaptation-aone-plast/activity/\", \\\n",
    "             fl, \\\n",
    "             8, \"eA1\", 1, 2000)\n",
    "\n",
    "iA1spikes = gatherSpikes(\"demyelination/data/adaptation-aone-plast/activity/\", \\\n",
    "             fl, \\\n",
    "             8, \"iA1\", 2001, 2500)"
   ]
  },
  {
   "cell_type": "code",
   "execution_count": 22,
   "id": "758304b7",
   "metadata": {},
   "outputs": [],
   "source": [
    "ex_eA1 = gatherConnectivity(\"demyelination/data/adaptation-aone-plast/activity/\", \\\n",
    "             fl, \\\n",
    "             8, \"eA1\", \"ex\")\n",
    "\n",
    "in_eA1 = gatherConnectivity(\"demyelination/data/adaptation-aone-plast/activity/\", \\\n",
    "             fl, \\\n",
    "             8, \"eA1\", \"in\")\n",
    "\n",
    "ex_iA1 = gatherConnectivity(\"demyelination/data/adaptation-aone-plast/activity/\", \\\n",
    "             fl, \\\n",
    "             8, \"iA1\", \"ex\")\n",
    "\n",
    "in_iA1 = gatherConnectivity(\"demyelination/data/adaptation-aone-plast/activity/\", \\\n",
    "             fl, \\\n",
    "             8, \"iA1\", \"in\")\n",
    "\n",
    "# DendriteType_Population\n",
    "#perc_ex_eA1 = np.divide(ex_eA1, np.sum((ex_eA1, in_eA1), axis=0))\n",
    "perc_ex_eA1 = np.divide(ex_eA1, 2000*2000)\n",
    "perc_in_eA1 = np.divide(in_eA1, 500*2000)\n",
    "\n",
    "perc_ex_iA1 = np.divide(ex_iA1, 500*2000)\n",
    "perc_in_iA1 = np.divide(in_iA1, 500*500)"
   ]
  },
  {
   "cell_type": "code",
   "execution_count": 23,
   "id": "c3d0cce3",
   "metadata": {},
   "outputs": [],
   "source": [
    "ex_eA1 = gatherNestConnectivity(\"demyelination/data/adaptation-aone-plast/activity/\", \\\n",
    "             fl, \\\n",
    "             8, \"eA1\", \"eA1\")\n",
    "\n",
    "in_eA1 = gatherNestConnectivity(\"demyelination/data/adaptation-aone-plast/activity/\", \\\n",
    "             fl, \\\n",
    "             8, \"iA1\", \"eA1\")\n",
    "\n",
    "ex_iA1 = gatherNestConnectivity(\"demyelination/data/adaptation-aone-plast/activity/\", \\\n",
    "             fl, \\\n",
    "             8, \"eA1\", \"iA1\")\n",
    "\n",
    "in_iA1 = gatherNestConnectivity(\"demyelination/data/adaptation-aone-plast/activity/\", \\\n",
    "             fl, \\\n",
    "             8, \"iA1\", \"iA1\")\n",
    "\n",
    "# DendriteType_Population\n",
    "#perc_ex_eA1 = np.divide(ex_eA1, np.sum((ex_eA1, in_eA1), axis=0))\n",
    "perc_ex_eA1 = np.divide(ex_eA1, 2000*2000)\n",
    "perc_in_eA1 = np.divide(in_eA1, 500*2000)\n",
    "\n",
    "perc_ex_iA1 = np.divide(ex_iA1, 500*2000)\n",
    "perc_in_iA1 = np.divide(in_iA1, 500*500)"
   ]
  },
  {
   "cell_type": "code",
   "execution_count": 24,
   "id": "851d2c01",
   "metadata": {},
   "outputs": [
    {
     "data": {
      "text/plain": [
       "(array([0.09986475, 0.1018895 , 0.105266  , 0.1080565 , 0.11067575,\n",
       "        0.1132265 ]),\n",
       " array([0.100218, 0.100218, 0.100218, 0.100218, 0.100218, 0.100218]),\n",
       " array([0.100029, 0.100029, 0.100029, 0.100029, 0.100029, 0.100029]),\n",
       " array([0.101008, 0.101008, 0.101008, 0.101008, 0.101008, 0.101008]))"
      ]
     },
     "execution_count": 24,
     "metadata": {},
     "output_type": "execute_result"
    }
   ],
   "source": [
    "perc_ex_eA1, perc_in_eA1, perc_ex_iA1, perc_in_iA1"
   ]
  },
  {
   "cell_type": "code",
   "execution_count": 25,
   "id": "616a5bcc",
   "metadata": {},
   "outputs": [],
   "source": [
    "z_ex_eA1 = gatherZ(\"demyelination/data/adaptation-aone-plast/activity/\", \\\n",
    "             \"spk_adaptation-aone-plast_T=3_nuX_aone=20.0_gamma_aone=9.0_w_input_aone=15.0_\", \\\n",
    "             8, \"eA1\", \"ex\")\n",
    "\n",
    "z_in_eA1 = gatherZ(\"demyelination/data/adaptation-aone-plast/activity/\", \\\n",
    "             \"spk_adaptation-aone-plast_T=3_nuX_aone=20.0_gamma_aone=9.0_w_input_aone=15.0_\", \\\n",
    "             8, \"eA1\", \"in\")\n",
    "\n",
    "z_ex_iA1 = gatherZ(\"demyelination/data/adaptation-aone-plast/activity/\", \\\n",
    "             \"spk_adaptation-aone-plast_T=3_nuX_aone=20.0_gamma_aone=9.0_w_input_aone=15.0_\", \\\n",
    "             8, \"iA1\", \"ex\")\n",
    "\n",
    "z_in_iA1 = gatherZ(\"demyelination/data/adaptation-aone-plast/activity/\", \\\n",
    "             \"spk_adaptation-aone-plast_T=3_nuX_aone=20.0_gamma_aone=9.0_w_input_aone=15.0_\", \\\n",
    "             8, \"iA1\", \"in\")\n"
   ]
  },
  {
   "cell_type": "code",
   "execution_count": 516,
   "id": "97677186",
   "metadata": {},
   "outputs": [
    {
     "data": {
      "text/plain": [
       "(array([1257.40572818, 2079.68892618, 2577.2030778 , 3060.29452309,\n",
       "        3550.40646919, 4067.26942816, 4600.07646513, 5125.38628674,\n",
       "        5675.76619354, 6222.9348947 ]),\n",
       " array([1257.40572818, 1655.28892618, 1658.2030778 , 1707.68815034,\n",
       "        1812.60242096, 1929.50215737, 2065.60873094, 2209.27036438,\n",
       "        2354.80762773, 2508.7321946 ]),\n",
       " array([ 272.24287673,  467.45178432,  608.43265375,  753.63887306,\n",
       "         897.55225852, 1054.31668951, 1206.14816083, 1360.43481378,\n",
       "        1516.3653405 , 1677.76534871]),\n",
       " array([  0,  54,  94, 126, 173, 215, 256, 305, 345, 406]))"
      ]
     },
     "execution_count": 516,
     "metadata": {},
     "output_type": "execute_result"
    }
   ],
   "source": [
    "z_ex_eA1, z_in_eA1, z_ex_iA1, in_iA1"
   ]
  },
  {
   "cell_type": "code",
   "execution_count": 532,
   "id": "4104d598",
   "metadata": {},
   "outputs": [
    {
     "data": {
      "text/plain": [
       "(array([   0, 1102, 1725, 2285, 2789, 3325, 3885, 4440, 4964, 5524]),\n",
       " array([   0,  231,  421,  580,  747,  907, 1058, 1213, 1375, 1523]),\n",
       " array([   0,  217,  396,  554,  726,  867, 1017, 1167, 1338, 1496]),\n",
       " array([  0,  54,  94, 126, 173, 215, 256, 305, 345, 406]))"
      ]
     },
     "execution_count": 532,
     "metadata": {},
     "output_type": "execute_result"
    }
   ],
   "source": [
    "ex_eA1, in_eA1, ex_iA1, in_iA1"
   ]
  },
  {
   "cell_type": "code",
   "execution_count": 27,
   "id": "ff7c16cc",
   "metadata": {},
   "outputs": [
    {
     "name": "stdout",
     "output_type": "stream",
     "text": [
      "7.511\n",
      "7.398\n",
      "7.3055\n",
      "7.5215\n",
      "7.3655\n",
      "0.0\n",
      "0.0\n",
      "0.0\n",
      "0.0\n",
      "0.0\n"
     ]
    }
   ],
   "source": [
    "for x in range(0, 100000, 10000):\n",
    "    print(eA1spikes.time_slice(x, x+1000).mean_rate())"
   ]
  },
  {
   "cell_type": "code",
   "execution_count": 26,
   "id": "5503d2e1",
   "metadata": {},
   "outputs": [
    {
     "name": "stdout",
     "output_type": "stream",
     "text": [
      "13.704\n",
      "13.166\n",
      "13.202\n",
      "13.132\n",
      "13.262\n",
      "0.0\n",
      "0.0\n",
      "0.0\n",
      "0.0\n",
      "0.0\n"
     ]
    }
   ],
   "source": [
    "for x in range(0, 100000, 10000):\n",
    "    print(iA1spikes.time_slice(x, x+1000).mean_rate())"
   ]
  },
  {
   "cell_type": "code",
   "execution_count": 28,
   "id": "6bc39e83",
   "metadata": {
    "scrolled": false
   },
   "outputs": [
    {
     "ename": "ValueError",
     "evalue": "x and y must have same first dimension, but have shapes (5,) and (10,)",
     "output_type": "error",
     "traceback": [
      "\u001b[0;31m---------------------------------------------------------------------------\u001b[0m",
      "\u001b[0;31mValueError\u001b[0m                                Traceback (most recent call last)",
      "\u001b[0;32m<ipython-input-28-7810efeae927>\u001b[0m in \u001b[0;36m<module>\u001b[0;34m\u001b[0m\n\u001b[1;32m     52\u001b[0m \u001b[0maxis\u001b[0m \u001b[0;34m=\u001b[0m \u001b[0max\u001b[0m\u001b[0;34m[\u001b[0m\u001b[0;36m2\u001b[0m\u001b[0;34m]\u001b[0m\u001b[0;34m\u001b[0m\u001b[0;34m\u001b[0m\u001b[0m\n\u001b[1;32m     53\u001b[0m \u001b[0;34m\u001b[0m\u001b[0m\n\u001b[0;32m---> 54\u001b[0;31m \u001b[0maxis\u001b[0m\u001b[0;34m.\u001b[0m\u001b[0mplot\u001b[0m\u001b[0;34m(\u001b[0m\u001b[0mrange\u001b[0m\u001b[0;34m(\u001b[0m\u001b[0ms\u001b[0m\u001b[0;34m,\u001b[0m \u001b[0ml\u001b[0m\u001b[0;34m,\u001b[0m \u001b[0mrecordstep\u001b[0m\u001b[0;34m)\u001b[0m\u001b[0;34m,\u001b[0m \u001b[0mspk\u001b[0m\u001b[0;34m.\u001b[0m\u001b[0mcalcium\u001b[0m\u001b[0;34m[\u001b[0m\u001b[0;34m'iA1'\u001b[0m\u001b[0;34m]\u001b[0m\u001b[0;34m,\u001b[0m \u001b[0mlabel\u001b[0m\u001b[0;34m=\u001b[0m\u001b[0;34m\"iA1 Calcium Levels\"\u001b[0m\u001b[0;34m)\u001b[0m\u001b[0;34m\u001b[0m\u001b[0;34m\u001b[0m\u001b[0m\n\u001b[0m\u001b[1;32m     55\u001b[0m \u001b[0maxis\u001b[0m\u001b[0;34m.\u001b[0m\u001b[0mplot\u001b[0m\u001b[0;34m(\u001b[0m\u001b[0mrange\u001b[0m\u001b[0;34m(\u001b[0m\u001b[0ms\u001b[0m\u001b[0;34m,\u001b[0m \u001b[0ml\u001b[0m\u001b[0;34m,\u001b[0m \u001b[0mrecordstep\u001b[0m\u001b[0;34m)\u001b[0m\u001b[0;34m,\u001b[0m \u001b[0mspk\u001b[0m\u001b[0;34m.\u001b[0m\u001b[0mcalcium\u001b[0m\u001b[0;34m[\u001b[0m\u001b[0;34m'eA1'\u001b[0m\u001b[0;34m]\u001b[0m\u001b[0;34m,\u001b[0m \u001b[0mlabel\u001b[0m\u001b[0;34m=\u001b[0m\u001b[0;34m\"eA1 Calcium Levels\"\u001b[0m\u001b[0;34m)\u001b[0m\u001b[0;34m\u001b[0m\u001b[0;34m\u001b[0m\u001b[0m\n\u001b[1;32m     56\u001b[0m \u001b[0;34m\u001b[0m\u001b[0m\n",
      "\u001b[0;32m~/miniconda3/envs/nest/lib/python3.9/site-packages/matplotlib/axes/_axes.py\u001b[0m in \u001b[0;36mplot\u001b[0;34m(self, scalex, scaley, data, *args, **kwargs)\u001b[0m\n\u001b[1;32m   1630\u001b[0m         \"\"\"\n\u001b[1;32m   1631\u001b[0m         \u001b[0mkwargs\u001b[0m \u001b[0;34m=\u001b[0m \u001b[0mcbook\u001b[0m\u001b[0;34m.\u001b[0m\u001b[0mnormalize_kwargs\u001b[0m\u001b[0;34m(\u001b[0m\u001b[0mkwargs\u001b[0m\u001b[0;34m,\u001b[0m \u001b[0mmlines\u001b[0m\u001b[0;34m.\u001b[0m\u001b[0mLine2D\u001b[0m\u001b[0;34m)\u001b[0m\u001b[0;34m\u001b[0m\u001b[0;34m\u001b[0m\u001b[0m\n\u001b[0;32m-> 1632\u001b[0;31m         \u001b[0mlines\u001b[0m \u001b[0;34m=\u001b[0m \u001b[0;34m[\u001b[0m\u001b[0;34m*\u001b[0m\u001b[0mself\u001b[0m\u001b[0;34m.\u001b[0m\u001b[0m_get_lines\u001b[0m\u001b[0;34m(\u001b[0m\u001b[0;34m*\u001b[0m\u001b[0margs\u001b[0m\u001b[0;34m,\u001b[0m \u001b[0mdata\u001b[0m\u001b[0;34m=\u001b[0m\u001b[0mdata\u001b[0m\u001b[0;34m,\u001b[0m \u001b[0;34m**\u001b[0m\u001b[0mkwargs\u001b[0m\u001b[0;34m)\u001b[0m\u001b[0;34m]\u001b[0m\u001b[0;34m\u001b[0m\u001b[0;34m\u001b[0m\u001b[0m\n\u001b[0m\u001b[1;32m   1633\u001b[0m         \u001b[0;32mfor\u001b[0m \u001b[0mline\u001b[0m \u001b[0;32min\u001b[0m \u001b[0mlines\u001b[0m\u001b[0;34m:\u001b[0m\u001b[0;34m\u001b[0m\u001b[0;34m\u001b[0m\u001b[0m\n\u001b[1;32m   1634\u001b[0m             \u001b[0mself\u001b[0m\u001b[0;34m.\u001b[0m\u001b[0madd_line\u001b[0m\u001b[0;34m(\u001b[0m\u001b[0mline\u001b[0m\u001b[0;34m)\u001b[0m\u001b[0;34m\u001b[0m\u001b[0;34m\u001b[0m\u001b[0m\n",
      "\u001b[0;32m~/miniconda3/envs/nest/lib/python3.9/site-packages/matplotlib/axes/_base.py\u001b[0m in \u001b[0;36m__call__\u001b[0;34m(self, data, *args, **kwargs)\u001b[0m\n\u001b[1;32m    310\u001b[0m                 \u001b[0mthis\u001b[0m \u001b[0;34m+=\u001b[0m \u001b[0margs\u001b[0m\u001b[0;34m[\u001b[0m\u001b[0;36m0\u001b[0m\u001b[0;34m]\u001b[0m\u001b[0;34m,\u001b[0m\u001b[0;34m\u001b[0m\u001b[0;34m\u001b[0m\u001b[0m\n\u001b[1;32m    311\u001b[0m                 \u001b[0margs\u001b[0m \u001b[0;34m=\u001b[0m \u001b[0margs\u001b[0m\u001b[0;34m[\u001b[0m\u001b[0;36m1\u001b[0m\u001b[0;34m:\u001b[0m\u001b[0;34m]\u001b[0m\u001b[0;34m\u001b[0m\u001b[0;34m\u001b[0m\u001b[0m\n\u001b[0;32m--> 312\u001b[0;31m             \u001b[0;32myield\u001b[0m \u001b[0;32mfrom\u001b[0m \u001b[0mself\u001b[0m\u001b[0;34m.\u001b[0m\u001b[0m_plot_args\u001b[0m\u001b[0;34m(\u001b[0m\u001b[0mthis\u001b[0m\u001b[0;34m,\u001b[0m \u001b[0mkwargs\u001b[0m\u001b[0;34m)\u001b[0m\u001b[0;34m\u001b[0m\u001b[0;34m\u001b[0m\u001b[0m\n\u001b[0m\u001b[1;32m    313\u001b[0m \u001b[0;34m\u001b[0m\u001b[0m\n\u001b[1;32m    314\u001b[0m     \u001b[0;32mdef\u001b[0m \u001b[0mget_next_color\u001b[0m\u001b[0;34m(\u001b[0m\u001b[0mself\u001b[0m\u001b[0;34m)\u001b[0m\u001b[0;34m:\u001b[0m\u001b[0;34m\u001b[0m\u001b[0;34m\u001b[0m\u001b[0m\n",
      "\u001b[0;32m~/miniconda3/envs/nest/lib/python3.9/site-packages/matplotlib/axes/_base.py\u001b[0m in \u001b[0;36m_plot_args\u001b[0;34m(self, tup, kwargs, return_kwargs)\u001b[0m\n\u001b[1;32m    496\u001b[0m \u001b[0;34m\u001b[0m\u001b[0m\n\u001b[1;32m    497\u001b[0m         \u001b[0;32mif\u001b[0m \u001b[0mx\u001b[0m\u001b[0;34m.\u001b[0m\u001b[0mshape\u001b[0m\u001b[0;34m[\u001b[0m\u001b[0;36m0\u001b[0m\u001b[0;34m]\u001b[0m \u001b[0;34m!=\u001b[0m \u001b[0my\u001b[0m\u001b[0;34m.\u001b[0m\u001b[0mshape\u001b[0m\u001b[0;34m[\u001b[0m\u001b[0;36m0\u001b[0m\u001b[0;34m]\u001b[0m\u001b[0;34m:\u001b[0m\u001b[0;34m\u001b[0m\u001b[0;34m\u001b[0m\u001b[0m\n\u001b[0;32m--> 498\u001b[0;31m             raise ValueError(f\"x and y must have same first dimension, but \"\n\u001b[0m\u001b[1;32m    499\u001b[0m                              f\"have shapes {x.shape} and {y.shape}\")\n\u001b[1;32m    500\u001b[0m         \u001b[0;32mif\u001b[0m \u001b[0mx\u001b[0m\u001b[0;34m.\u001b[0m\u001b[0mndim\u001b[0m \u001b[0;34m>\u001b[0m \u001b[0;36m2\u001b[0m \u001b[0;32mor\u001b[0m \u001b[0my\u001b[0m\u001b[0;34m.\u001b[0m\u001b[0mndim\u001b[0m \u001b[0;34m>\u001b[0m \u001b[0;36m2\u001b[0m\u001b[0;34m:\u001b[0m\u001b[0;34m\u001b[0m\u001b[0;34m\u001b[0m\u001b[0m\n",
      "\u001b[0;31mValueError\u001b[0m: x and y must have same first dimension, but have shapes (5,) and (10,)"
     ]
    },
    {
     "data": {
      "text/plain": [
       "<Figure size 432x288 with 0 Axes>"
      ]
     },
     "metadata": {},
     "output_type": "display_data"
    },
    {
     "data": {
      "image/png": "[encoded data removed]",
      "text/plain": [
       "<Figure size 1440x1080 with 6 Axes>"
      ]
     },
     "metadata": {
      "needs_background": "light"
     },
     "output_type": "display_data"
    }
   ],
   "source": [
    "plt.clf()\n",
    "fig, ax = plt.subplots(6, 1, sharex=True)\n",
    "fig.set_size_inches(20, 15)\n",
    "\n",
    "#spk.spikeobj['eA1'] = spk.spikeobj['eA1'].time_slice(60000, 65000)\n",
    "#spk.spikeobj['iA1'] = spk.spikeobj['iA1'].time_slice(60000, 65000)\n",
    "\n",
    "#plt.title(fls[0])\n",
    "\n",
    "# Inst Firing Rate\n",
    "axis = ax[0]\n",
    "#'''\n",
    "x, y = smoothedspikes(iA1spikes)\n",
    "axis.plot(x, y, label=\"iA1 Instantaenous Firing Rate\", c='r')\n",
    "\n",
    "x, y = smoothedspikes(eA1spikes)\n",
    "# .time_slice(1000, 3000)\n",
    "axis.plot(x, y, label=\"eA1 Instantaenous Firing Rate\", c='g')\n",
    "#'''\n",
    "axis.set_ylabel(\"Instantaenous Firing Rate\")\n",
    "axis.legend()\n",
    "#axis.set_xlim((0, 5000))\n",
    "\n",
    "# Connectivity\n",
    "axis = ax[1]\n",
    "\n",
    "#ex_ex, ex_in, in_ex, in_in = percentageconn(spk.connectivity['z_connected']['Den'])\n",
    "'''percentage conn\n",
    "axis.plot(range(s, l, recordstep), perc_in_iA1, label=\"Inh Connection to iA1\", linewidth=2, ls=':', c='g')\n",
    "axis.plot(range(s, l, recordstep), perc_in_eA1, label=\"Inh Connection to eA1\", linewidth=2, ls=':', c='b')\n",
    "axis.plot(range(s, l, recordstep), perc_ex_iA1, label=\"Exc Connection to iA1\", linewidth=2, ls=':', c='r')\n",
    "axis.plot(range(s, l, recordstep), perc_ex_eA1, label=\"Exc Connection to eA1\", linewidth=2, ls=':', c='m')\n",
    "'''\n",
    "\n",
    "#'''percentage conn\n",
    "axis.plot(range(0, l, recordstep), perc_in_iA1, label=\"Inh Connection to iA1\", linewidth=2, ls=':', c='g')\n",
    "axis.plot(range(0, l, recordstep), perc_in_eA1, label=\"Inh Connection to eA1\", linewidth=2, ls=':', c='b')\n",
    "axis.plot(range(0, l, recordstep), perc_ex_iA1, label=\"Exc Connection to iA1\", linewidth=2, ls=':', c='r')\n",
    "axis.plot(range(0, l, recordstep), perc_ex_eA1, label=\"Exc Connection to eA1\", linewidth=2, ls=':', c='m')\n",
    "#'''\n",
    "\n",
    "'''# raw conn numbers\n",
    "axis.plot(range(s, l, recordstep), in_iA1, label=\"Inh Connection to iA1\", linewidth=2, ls=':', c='g')\n",
    "axis.plot(range(s, l, recordstep), in_eA1, label=\"Inh Connection to eA1\", linewidth=2, ls=':', c='b')\n",
    "axis.plot(range(s, l, recordstep), ex_iA1, label=\"Exc Connection to iA1\", linewidth=2, ls=':', c='r')\n",
    "axis.plot(range(s, l, recordstep), ex_eA1, label=\"Exc Connection to eA1\", linewidth=2, ls=':', c='m')\n",
    "'''\n",
    "axis.set_ylabel(\"Epsilon\")\n",
    "axis.legend()\n",
    "\n",
    "# Calcium\n",
    "axis = ax[2]\n",
    "\n",
    "axis.plot(range(s, l, recordstep), spk.calcium['iA1'], label=\"iA1 Calcium Levels\")\n",
    "axis.plot(range(s, l, recordstep), spk.calcium['eA1'], label=\"eA1 Calcium Levels\")\n",
    "\n",
    "axis.set_ylabel(\"Calcium\")\n",
    "axis.legend()\n",
    "'''\n",
    "# Z\n",
    "axis = ax[3]\n",
    "\n",
    "#axis.plot(range(s, l, recordstep), spk.connectivity['z']['Axon']['in']['iA1'], label=\"Inhibitory Axons iA1\")\n",
    "#axis.plot(range(s, l, recordstep), spk.connectivity['z']['Axon']['in']['eA1'], label=\"iA1 Connectivity\")\n",
    "#axis.plot(range(s, l, recordstep), spk.connectivity['z']['Axon']['ex']['iA1'], label=\"iA1 Connectivity\")\n",
    "#axis.plot(range(s, l, recordstep), spk.connectivity['z']['Axon']['ex']['eA1'], label=\"Excitatory Axons eA1\")\n",
    "axis.plot(range(s, l, recordstep), z_ex_iA1, label=\"Exc Connection to iA1\", linewidth=2, ls=':', c='r')\n",
    "axis.plot(range(s, l, recordstep), z_in_iA1, label=\"Inh Connection to iA1\", linewidth=2, ls=':', c='g')\n",
    "axis.plot(range(s, l, recordstep), z_in_eA1, label=\"Inh Connection to eA1\", linewidth=2, ls=':', c='b')\n",
    "axis.plot(range(s, l, recordstep), z_ex_eA1, label=\"Exc Connection to eA1\", linewidth=2, ls=':', c='m')\n",
    "\n",
    "axis.set_ylabel(\"Z\")\n",
    "axis.legend()\n",
    "\n",
    "axis = ax[4]\n",
    "part = \"eA1\"\n",
    "eA1spikes.raster_plot(ax=axis, dt=10, display=False, color=\"green\", ms=.1)\n",
    "axis.set_ylabel(part)\n",
    "\n",
    "axis = ax[5]\n",
    "part = \"iA1\"\n",
    "iA1spikes.raster_plot(ax=axis, dt=10, display=False, color=\"red\", ms=.1)\n",
    "axis.set_ylabel(part)\n",
    "'''\n",
    "axis.set_xlabel(\"Time (ms)\")\n",
    "axis.legend()\n",
    "\n",
    "#plt.savefig(\"/home/pbr-student/Downloads/thesis-plots/plasticity.pdf\")"
   ]
  },
  {
   "cell_type": "code",
   "execution_count": 30,
   "id": "dd1a1091",
   "metadata": {},
   "outputs": [
    {
     "data": {
      "text/plain": [
       "[0.046155309101822584,\n",
       " 0.06322763428018341,\n",
       " 0.06988900484082965,\n",
       " 0.07207634328932244,\n",
       " 0.07313958473190176,\n",
       " 0.07327052242212949,\n",
       " 0.07303793037398734,\n",
       " 0.07283755898892491,\n",
       " 0.07272948924471408,\n",
       " 0.07266314248120709]"
      ]
     },
     "execution_count": 30,
     "metadata": {},
     "output_type": "execute_result"
    }
   ],
   "source": [
    "spk.calcium['eA1']"
   ]
  },
  {
   "cell_type": "markdown",
   "id": "2d6056b7",
   "metadata": {},
   "source": [
    "### Notes\n",
    "\n",
    "T=1 A simple run without plasticity enabled found that the calcium levels reach the activity level / 100 in 40s.\n",
    "<br />\n",
    "T=2 The connections are growing, and the activity levels are maintained. However, it makes sense to try a lower rate.\n",
    "<br />\n",
    "T=3 The connections are constantly growing, and it is not clear why they don't stop despite the calcium levels having stagnated. The ratio of the types of connectivity is 50-50, however, the results show 80-20 (exc-inh). (100s every 10s)\n",
    "<br />\n",
    "T=5 The connections grow, but the activity rate declines slightly.\n",
    "<br />\n",
    "T=6 A higher growth rate was tried. Now the activity rate declines faster. Makes sense to try a higher growth rate for the excitatory connections than the inhibitory ones.\n",
    "<br />\n",
    "T=7 There is nearly no growth in connections except for eA1 -> eA1. I have increased eta for exc connections to 10.0 to delay that process and allow the inh connections to grow, in the next experiment.\n",
    "<br />\n",
    "T=8"
   ]
  }
 ],
 "metadata": {
  "kernelspec": {
   "display_name": "Python 3 (ipykernel)",
   "language": "python",
   "name": "python3"
  },
  "language_info": {
   "codemirror_mode": {
    "name": "ipython",
    "version": 3
   },
   "file_extension": ".py",
   "mimetype": "text/x-python",
   "name": "python",
   "nbconvert_exporter": "python",
   "pygments_lexer": "ipython3",
   "version": "3.9.7"
  }
 },
 "nbformat": 4,
 "nbformat_minor": 5
}
