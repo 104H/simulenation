{
 "cells": [
  {
   "cell_type": "code",
   "execution_count": 1,
   "id": "4632d5b5",
   "metadata": {},
   "outputs": [],
   "source": [
    "import nest\n",
    "gc_axon  = {'growth_curve': \"Gaussian\", 'z': 0., 'growth_rate': 0., 'eps': 2., 'eta':0.0007,'continuous': False}\n",
    "nest.SetKernelStatus({\n",
    "    'structural_plasticity_synapses': {\n",
    "        'synapse_ex': {\n",
    "            'synapse_model': 'static_synapse',\n",
    "            'post_synaptic_element': 'Den_ex',\n",
    "            'pre_synaptic_element': 'Axon_ex',\n",
    "        },\n",
    "    }\n",
    "})\n",
    "neurons = nest.Create('iaf_psc_alpha', 2, {\n",
    "    'synaptic_elements': {\n",
    "        'Axon_ex': {'z': 0.0, 'growth_rate': 0.0},\n",
    "        'Den_ex': {'z': 0.0, 'growth_rate': 0.0}\n",
    "    }\n",
    "})\n",
    "status_ = nest.GetStatus(neurons)"
   ]
  },
  {
   "cell_type": "code",
   "execution_count": 2,
   "id": "14bcb2a6",
   "metadata": {},
   "outputs": [
    {
     "data": {
      "text/plain": [
       "0.0"
      ]
     },
     "execution_count": 2,
     "metadata": {},
     "output_type": "execute_result"
    }
   ],
   "source": [
    "status_[0][\"synaptic_elements\"][\"Axon_ex\"][\"growth_rate\"]"
   ]
  },
  {
   "cell_type": "code",
   "execution_count": 3,
   "id": "71f416bb",
   "metadata": {},
   "outputs": [],
   "source": [
    "nest.Simulate(10 * 1000)"
   ]
  },
  {
   "cell_type": "code",
   "execution_count": 4,
   "id": "a08aa3b1",
   "metadata": {},
   "outputs": [
    {
     "data": {
      "text/plain": [
       "0.1"
      ]
     },
     "execution_count": 4,
     "metadata": {},
     "output_type": "execute_result"
    }
   ],
   "source": [
    "gc_axon  = {'growth_curve': \"gaussian\", 'z': 0., 'growth_rate': 0.1, 'eps': 0.1, 'eta':0.0007,'continuous': False}\n",
    "synaptic_elements_e = {'Den_ex': gc_axon,'Axon_ex': gc_axon,}\n",
    "nest.SetStatus(neurons, {'synaptic_elements_param': synaptic_elements_e})\n",
    "status_new = nest.GetStatus(neurons)\n",
    "status_new[0][\"synaptic_elements\"][\"Axon_ex\"][\"growth_rate\"]"
   ]
  },
  {
   "cell_type": "code",
   "execution_count": 5,
   "id": "6fd2b949",
   "metadata": {},
   "outputs": [],
   "source": [
    "nest.EnableStructuralPlasticity()"
   ]
  },
  {
   "cell_type": "code",
   "execution_count": null,
   "id": "de8d972e",
   "metadata": {},
   "outputs": [],
   "source": [
    "nest.Simulate(10 * 1000)"
   ]
  }
 ],
 "metadata": {
  "kernelspec": {
   "display_name": "Python 3 (ipykernel)",
   "language": "python",
   "name": "python3"
  },
  "language_info": {
   "codemirror_mode": {
    "name": "ipython",
    "version": 3
   },
   "file_extension": ".py",
   "mimetype": "text/x-python",
   "name": "python",
   "nbconvert_exporter": "python",
   "pygments_lexer": "ipython3",
   "version": "3.9.7"
  }
 },
 "nbformat": 4,
 "nbformat_minor": 5
}
