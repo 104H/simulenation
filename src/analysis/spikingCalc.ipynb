{
 "cells": [
  {
   "cell_type": "code",
   "execution_count": 1,
   "id": "c216466c",
   "metadata": {},
   "outputs": [],
   "source": [
    "import nest\n",
    "import pylab\n",
    "import numpy"
   ]
  },
  {
   "cell_type": "code",
   "execution_count": 28,
   "id": "49b2fd59",
   "metadata": {},
   "outputs": [],
   "source": [
    "\n",
    "# Excitatory synaptic elements of excitatory neurons\n",
    "growth_curve_e_e = {\n",
    "    'growth_curve': \"gaussian\",\n",
    "    'growth_rate': 0.0001,  # (elements/ms)\n",
    "    'continuous': False,\n",
    "    'eta': 0.0,  # Ca2+\n",
    "    'eps': 0.2,  # Ca2+\n",
    "}\n",
    "\n",
    "# Inhibitory synaptic elements of excitatory neurons\n",
    "growth_curve_e_i = {\n",
    "    'growth_curve': \"gaussian\",\n",
    "    'growth_rate': 0.0001,  # (elements/ms)\n",
    "    'continuous': False,\n",
    "    'eta': 0.0,  # Ca2+\n",
    "    'eps': growth_curve_e_e['eps'],  # Ca2+\n",
    "}\n",
    "\n",
    "# Excitatory synaptic elements of inhibitory neurons\n",
    "growth_curve_i_e = {\n",
    "    'growth_curve': \"gaussian\",\n",
    "    'growth_rate': 0.0004,  # (elements/ms)\n",
    "    'continuous': False,\n",
    "    'eta': 0.0,  # Ca2+\n",
    "    'eps': 0.1,  # Ca2+\n",
    "}\n",
    "\n",
    "# Inhibitory synaptic elements of inhibitory neurons\n",
    "growth_curve_i_i = {\n",
    "    'growth_curve': \"gaussian\",\n",
    "    'growth_rate': 0.0001,  # (elements/ms)\n",
    "    'continuous': False,\n",
    "    'eta': 0.0,  # Ca2+\n",
    "    'eps': growth_curve_i_e['eps']  # Ca2+\n",
    "}\n",
    "\n",
    "synaptic_elements = {\n",
    "    'Den_ex': growth_curve_e_e,\n",
    "    'Den_in': growth_curve_e_i,\n",
    "    'Axon_ex': growth_curve_e_e,\n",
    "}\n",
    "\n",
    "synaptic_elements_i = {\n",
    "    'Den_ex': growth_curve_i_e,\n",
    "    'Den_in': growth_curve_i_i,\n",
    "    'Axon_in': growth_curve_i_i,\n",
    "}\n",
    "\n",
    "neuron_params_thl = {\n",
    "        #'model' : \"aeif_cond_exp\",\n",
    "        'E_L': -60.,  # resting membrane potential (mV) - see refs\n",
    "        'V_m' : -60,\n",
    "        'C_m': 50.0,      # membrane capacity (pF)\n",
    "        'g_L': 5.0,      # leak conductance  - see refs\n",
    "        'V_reset': -52.,  # reset membrane potential after a spike (mV)  - for bustiness\n",
    "        'V_th': -50.,  # spike threshold (mV)\n",
    "        'tau_syn_ex': 2.5, # exc. synaptic time constant  - mit paper\n",
    "        'tau_syn_in': 10., # exc. synaptic time constant  - mit paper\n",
    "\n",
    "        # initial burst + adaptation\n",
    "        \"a\": 0.5,\n",
    "        \"b\": 10.,\n",
    "        'tau_w': 150.,\n",
    "    }\n",
    "\n",
    "neuron_params_aone = {\n",
    "        #'model': 'aeif_cond_exp',\n",
    "        'E_L': -70.,  # resting membrane potential (mV)\n",
    "        'C_m': 150.0,  # membrane capacity (pF)\n",
    "        'g_L': 10.0,  # leak conductance  - in combo with C_m you get tau_m = ~15 ms\n",
    "        'V_reset': -60.,  # reset membrane potential after a spike (mV)\n",
    "        'V_th': -55.,  # spike threshold (mV)\n",
    "        'tau_syn_ex': 5.,  # exc. synaptic time constant\n",
    "        'tau_syn_in': 10.,  # exc. synaptic time constant\n",
    "\n",
    "        # initial burst + adaptation\n",
    "        \"a\": 2.,\n",
    "        \"b\": 60.,\n",
    "        'tau_w': 200.,\n",
    "    }"
   ]
  },
  {
   "cell_type": "code",
   "execution_count": 29,
   "id": "65efa5e8",
   "metadata": {},
   "outputs": [],
   "source": [
    "nest.ResetKernel()\n",
    "nest.EnableStructuralPlasticity()\n",
    "\n",
    "nest.CopyModel('static_synapse', 'synapse_ex')\n",
    "nest.SetDefaults('synapse_ex', {'weight': 1., 'delay': 0.1})\n",
    "nest.CopyModel('static_synapse', 'synapse_in')\n",
    "nest.SetDefaults('synapse_in', {'weight': -1., 'delay': 0.1})\n",
    "nest.structural_plasticity_synapses = {\n",
    "        'synapse_ex': {\n",
    "            'synapse_model': 'synapse_ex',\n",
    "            'post_synaptic_element': 'Den_ex',\n",
    "            'pre_synaptic_element': 'Axon_ex'\n",
    "        },\n",
    "        'synapse_in': {\n",
    "            'synapse_model': 'synapse_in',\n",
    "            'post_synaptic_element': 'Den_in',\n",
    "            'pre_synaptic_element': 'Axon_in'\n",
    "        }\n",
    "    }\n",
    "\n",
    "noise = nest.Create('poisson_generator', n=1)\n",
    "noise.rate = 10\n",
    "\n",
    "n1 = nest.Create(\"aeif_cond_exp\", 200, {'synaptic_elements': synaptic_elements})\n",
    "nest.SetStatus(n1, neuron_params_aone)\n",
    "\n",
    "n2 = nest.Create(\"aeif_cond_exp\", 50, {'synaptic_elements': synaptic_elements_i})\n",
    "nest.SetStatus(n2, neuron_params_aone)\n",
    "\n",
    "#v = nest.Create(\"voltmeter\")\n",
    "sr1 = nest.Create(\"spike_recorder\")\n",
    "sr2 = nest.Create(\"spike_recorder\")\n",
    "\n",
    "#nest.Connect(n1, n2)\n",
    "\n",
    "nest.Connect(n1, sr1)\n",
    "nest.Connect(n2, sr2)\n",
    "\n",
    "'''sg = nest.Create('spike_generator')\n",
    "\n",
    "nest.SetStatus(sg, {'spike_times' : [10., 20., 130., 140.]})\n",
    "\n",
    "nest.Connect(sg, n, syn_spec={'weight':.1})'''\n",
    "\n",
    "nest.Connect(noise, n1, syn_spec={'weight':15.})\n",
    "nest.Connect(noise, n2, syn_spec={'weight':25.})\n",
    "\n",
    "step = 100\n",
    "simtime = 100. * 1e3\n",
    "#for _ in range(0, simtime, step):\n",
    "nest.Simulate(simtime)"
   ]
  },
  {
   "cell_type": "code",
   "execution_count": 24,
   "id": "279a889a",
   "metadata": {},
   "outputs": [],
   "source": [
    "# import matplotlib.pyplot as plt\n",
    "# plt.hist(sr1.get(\"events\")['times'])"
   ]
  },
  {
   "cell_type": "code",
   "execution_count": 30,
   "id": "63798845",
   "metadata": {},
   "outputs": [
    {
     "name": "stdout",
     "output_type": "stream",
     "text": [
      "Ca Levels:  0.0337645650594962 0.09883247278763582\n",
      "Mean Spiking Activity Exc:  3.31765\n",
      "Mean Spiking Activity Inh:  9.841600000000001\n",
      "Exc Neuron Axonal Connections:  3.075\n",
      "Inh Neuron Axonal Connections:  1.6\n",
      "Exc Neuron Z:  4.200357642618717\n",
      "Inh Neuron Z:  2.1507314713062646\n"
     ]
    }
   ],
   "source": [
    "print(\"Ca Levels: \", numpy.mean(n1.Ca), numpy.mean(n2.Ca))\n",
    "print(\"Mean Spiking Activity Exc: \", (len(sr1.get(\"events\")['times']) / simtime * 1e3) / 200)\n",
    "print(\"Mean Spiking Activity Inh: \", (len(sr2.get(\"events\")['times']) / simtime * 1e3) / 50)\n",
    "'''\n",
    "[print(_['Den_ex']['z_connected'], \\\n",
    "      _['Den_in']['z_connected'], _['Axon_ex']['z_connected']) for _ in n1.synaptic_elements];\n",
    "[print(_['Den_ex']['z_connected'], \\\n",
    "      _['Den_in']['z_connected'], _['Axon_in']['z_connected']) for _ in n2.synaptic_elements];\n",
    "'''\n",
    "\n",
    "print(\"Exc Neuron Axonal Connections: \", numpy.mean([_['Axon_ex']['z_connected'] for _ in n1.synaptic_elements]))\n",
    "print(\"Inh Neuron Axonal Connections: \", numpy.mean([_['Axon_in']['z_connected'] for _ in n2.synaptic_elements]))\n",
    "\n",
    "print(\"Exc Neuron Z: \", numpy.mean([_['Axon_ex']['z'] for _ in n1.synaptic_elements]))\n",
    "print(\"Inh Neuron Z: \", numpy.mean([_['Axon_in']['z'] for _ in n2.synaptic_elements]))\n"
   ]
  },
  {
   "cell_type": "code",
   "execution_count": 38,
   "id": "35df0e6a",
   "metadata": {},
   "outputs": [
    {
     "name": "stdout",
     "output_type": "stream",
     "text": [
      "estimated firing rate in Hz:  9.950045756403817\n",
      "estimated ca:  0.09950045756404097\n"
     ]
    },
    {
     "data": {
      "text/plain": [
       "Text(0, 0.5, 'Ca2+ levels')"
      ]
     },
     "execution_count": 38,
     "metadata": {},
     "output_type": "execute_result"
    },
    {
     "data": {
      "image/png": "[encoded data removed]",
      "text/plain": [
       "<Figure size 432x288 with 1 Axes>"
      ]
     },
     "metadata": {
      "needs_background": "light"
     },
     "output_type": "display_data"
    }
   ],
   "source": [
    "import numpy as np\n",
    "from scipy import signal, integrate\n",
    "from matplotlib import pyplot as plt\n",
    "\n",
    "t_sim_s = 100   # in s\n",
    "t_sim_ms = t_sim_s * 1e3  # in ms\n",
    "\n",
    "tau = 10000  # time constant of the exponential (kernel), in ms. In NEST it's 10s by default, so 10000\n",
    "fr = 10  # n spikes / sec (~firing rate, just the number of spikes here) -- it's the value we should get back in the end approx\n",
    "spk = np.random.randint(5, t_sim_ms, fr * t_sim_s)  # draw #spike times corresponding to given fr\n",
    "len_sig = tau * 100  # needed for convolution\n",
    "t_ca = np.zeros(len_sig)  # time axis for convolution, will put the spikes on this\n",
    "t_fr = np.zeros(len_sig)  # time axis for convolution, will put the spikes on this\n",
    "\n",
    "beta = 0.000001 # beta from equation - increase in Ca levels for each spike\n",
    "\n",
    "t_ca[spk] = 1 * beta  # set the spikes on the time axis, scaled by beta - for the Calcium signal, as per equation\n",
    "t_fr[spk] = 1 / tau  # set the spikes on the time axis, scaled by tau - this will give you a FR estimate in Hz\n",
    "\n",
    "exp = signal.exponential(tau * 10, center=0, tau=tau, sym=False)  # create exp kernel, make the window 10x tau so it's large enough for precision\n",
    "ca_sig = signal.convolve(exp, t_ca)  # this is the Ca level / signal, as per the equation\n",
    "fr_sig = signal.convolve(exp, t_fr)  # this is the instantaneous firing rate, i.e., the spike convolved by exp kernel\n",
    "\n",
    "# by integrating over 1 s (here full signal) we can estimate the mean FR rate\n",
    "integral = integrate.cumtrapz(fr_sig, np.arange(len(fr_sig)), initial=0)\n",
    "est_fr_hz = integral[-1] / t_sim_s  # get the mean of integral over 1 sec => for rate in Hz\n",
    "\n",
    "print(\"estimated firing rate in Hz: \", est_fr_hz)\n",
    "\n",
    "# by integrating over 1 s (here full signal) we can estimate the mean FR rate\n",
    "integral = integrate.cumtrapz(ca_sig, np.arange(len(fr_sig)), initial=0)\n",
    "est_fr_hz = integral[-1] / t_sim_s  # get the mean of integral over 1 sec => for rate in Hz\n",
    "\n",
    "print(\"estimated ca: \", est_fr_hz)\n",
    "\n",
    "plt.plot(ca_sig[:int(t_sim_ms)])  # Ca2+ levels\n",
    "plt.plot(fr_sig[:int(t_sim_ms)])  # Ca2+ levels\n",
    "plt.ylabel('Ca2+ levels')"
   ]
  },
  {
   "cell_type": "markdown",
   "id": "3563f875",
   "metadata": {},
   "source": [
    "## Structural Plasticity Implementation Equation\n",
    "#### Diaz-Pier 2016"
   ]
  },
  {
   "cell_type": "code",
   "execution_count": 29,
   "id": "86b1d2ce",
   "metadata": {},
   "outputs": [],
   "source": [
    "import numpy as np\n",
    "from matplotlib import pyplot as plt\n",
    "import pandas as pd"
   ]
  },
  {
   "cell_type": "code",
   "execution_count": 94,
   "id": "81ef58ed",
   "metadata": {},
   "outputs": [
    {
     "data": {
      "text/plain": [
       "[<matplotlib.lines.Line2D at 0x7efc6e4f6cd0>]"
      ]
     },
     "execution_count": 94,
     "metadata": {},
     "output_type": "execute_result"
    },
    {
     "data": {
      "image/png": "[encoded data removed]",
      "text/plain": [
       "<Figure size 432x288 with 1 Axes>"
      ]
     },
     "metadata": {
      "needs_background": "light"
     },
     "output_type": "display_data"
    }
   ],
   "source": [
    "nu = 0.0001 # growth rate\n",
    "eta = 0.16 # minumum Ca to build connections\n",
    "epsilon = 17 / 100. # max Ca to reach\n",
    "xi = (eta+epsilon)/2\n",
    "zeta = (epsilon-eta)/(2 * np.power(np.log(2), 0.5))\n",
    "\n",
    "ca = np.linspace(0, 1., 20)\n",
    "\n",
    "dz_by_dt = nu * (2 * np.exp(-1 * (ca - xi) / zeta ) -1)\n",
    "\n",
    "plt.plot(ca, dz_by_dt)"
   ]
  },
  {
   "cell_type": "code",
   "execution_count": 69,
   "id": "30c1027c",
   "metadata": {},
   "outputs": [],
   "source": [
    "dz_by_dt_linear = nu * (1 - (ca / epsilon))"
   ]
  },
  {
   "cell_type": "code",
   "execution_count": 72,
   "id": "4b3b0987",
   "metadata": {},
   "outputs": [
    {
     "data": {
      "text/plain": [
       "[<matplotlib.lines.Line2D at 0x7efc6ed4ea30>]"
      ]
     },
     "execution_count": 72,
     "metadata": {},
     "output_type": "execute_result"
    },
    {
     "data": {
      "image/png": "[encoded data removed]",
      "text/plain": [
       "<Figure size 432x288 with 1 Axes>"
      ]
     },
     "metadata": {
      "needs_background": "light"
     },
     "output_type": "display_data"
    }
   ],
   "source": [
    "plt.plot(ca, dz_by_dt_linear)"
   ]
  },
  {
   "cell_type": "code",
   "execution_count": 59,
   "id": "53a7c02e",
   "metadata": {},
   "outputs": [],
   "source": [
    "nu_ = np.array([0.01, 0.001, 0.0001, 0.00001]) # growth rate\n",
    "eta_ = np.linspace(0., 1., 10) # minumum Ca to build connections\n",
    "epsilon_ = np.linspace(0.05, 1., 10) # max Ca to reach\n",
    "\n",
    "nu, eta, epsilon = np.meshgrid(nu_, eta_, epsilon_, indexing='ij')\n",
    "\n",
    "# df = pd.DataFrame(\n",
    "#     {\n",
    "#         \"nu\" : nu,\n",
    "#         \"eta\" : eta,\n",
    "#         \"epsilon\" : epsilon,\n",
    "#         \"ca\" : ca\n",
    "#     }\n",
    "# )\n",
    "\n",
    "# df['xi'] = (df.eta + df.epsilon)/2\n",
    "\n",
    "# df['zeta'] = (df.epsilon - df.eta)/(2 * np.power(np.log(2), 0.5))\n",
    "\n",
    "# df['dz_by_dt'] = df.nu * (2 * np.exp(-1 * (df.ca - df.xi) / df.zeta ) -1)"
   ]
  }
 ],
 "metadata": {
  "kernelspec": {
   "display_name": "Python 3 (ipykernel)",
   "language": "python",
   "name": "python3"
  },
  "language_info": {
   "codemirror_mode": {
    "name": "ipython",
    "version": 3
   },
   "file_extension": ".py",
   "mimetype": "text/x-python",
   "name": "python",
   "nbconvert_exporter": "python",
   "pygments_lexer": "ipython3",
   "version": "3.9.7"
  }
 },
 "nbformat": 4,
 "nbformat_minor": 5
}
