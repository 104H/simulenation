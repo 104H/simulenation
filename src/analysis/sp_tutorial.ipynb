{
 "cells": [
  {
   "cell_type": "code",
   "execution_count": null,
   "metadata": {},
   "outputs": [],
   "source": [
    "%matplotlib inline"
   ]
  },
  {
   "cell_type": "markdown",
   "metadata": {},
   "source": [
    "\n",
    "# Structural Plasticity example\n",
    "\n",
    "This example shows a simple network of two populations where structural\n",
    "plasticity is used. The network has 1000 neurons, 80% excitatory and\n",
    "20% inhibitory. The simulation starts without any connectivity. A set of\n",
    "homeostatic rules are defined, according to which structural plasticity will\n",
    "create and delete synapses dynamically during the simulation until a desired\n",
    "level of electrical activity is reached. The model of structural plasticity\n",
    "used here corresponds to the formulation presented in [1]_.\n",
    "\n",
    "At the end of the simulation, a plot of the evolution of the connectivity\n",
    "in the network and the average calcium concentration in the neurons is created.\n",
    "\n",
    "## References\n",
    "\n",
    ".. [1] Butz, M., and van Ooyen, A. (2013). A simple rule for dendritic spine and axonal bouton formation can\n",
    "       account for cortical reorganization after focal retinal lesions. PLoS Comput. Biol. 9 (10), e1003259.\n"
   ]
  },
  {
   "cell_type": "markdown",
   "metadata": {},
   "source": [
    "First, we have import all necessary modules.\n",
    "\n"
   ]
  },
  {
   "cell_type": "code",
   "execution_count": 2,
   "metadata": {},
   "outputs": [],
   "source": [
    "import nest\n",
    "import numpy\n",
    "import matplotlib.pyplot as plt\n",
    "import sys"
   ]
  },
  {
   "cell_type": "markdown",
   "metadata": {},
   "source": [
    "We define general simulation parameters\n",
    "\n"
   ]
  },
  {
   "cell_type": "code",
   "execution_count": 42,
   "metadata": {},
   "outputs": [],
   "source": [
    "class StructralPlasticityExample:\n",
    "\n",
    "    def __init__(self):\n",
    "        # simulated time (ms)\n",
    "        self.t_sim = 200000.0\n",
    "        # simulation step (ms).\n",
    "        self.dt = 0.1\n",
    "        self.number_excitatory_neurons = 800\n",
    "        self.number_inhibitory_neurons = 200\n",
    "\n",
    "        # Structural_plasticity properties\n",
    "        self.update_interval = 10000.0\n",
    "        self.record_interval = 1000.0\n",
    "        # rate of background Poisson input\n",
    "        self.bg_rate = 10000.0\n",
    "        self.neuron_model = 'iaf_psc_exp'\n",
    "\n",
    "# Excitatory synaptic elements of excitatory neurons\n",
    "        self.growth_curve_e_e = {\n",
    "            'growth_curve': \"gaussian\",\n",
    "            'growth_rate': 0.0001,  # (elements/ms)\n",
    "            'continuous': False,\n",
    "            'eta': 0.0,  # Ca2+\n",
    "            'eps': 0.09,  # Ca2+\n",
    "        }\n",
    "\n",
    "        # Inhibitory synaptic elements of excitatory neurons\n",
    "        self.growth_curve_e_i = {\n",
    "            'growth_curve': \"gaussian\",\n",
    "            'growth_rate': 0.0001,  # (elements/ms)\n",
    "            'continuous': False,\n",
    "            'eta': 0.0,  # Ca2+\n",
    "            'eps': self.growth_curve_e_e['eps'],  # Ca2+\n",
    "        }\n",
    "\n",
    "        # Excitatory synaptic elements of inhibitory neurons\n",
    "        self.growth_curve_i_e = {\n",
    "            'growth_curve': \"gaussian\",\n",
    "            'growth_rate': 0.0004,  # (elements/ms)\n",
    "            'continuous': False,\n",
    "            'eta': 0.0,  # Ca2+\n",
    "            'eps': 0.2,  # Ca2+\n",
    "        }\n",
    "\n",
    "        # Inhibitory synaptic elements of inhibitory neurons\n",
    "        self.growth_curve_i_i = {\n",
    "            'growth_curve': \"gaussian\",\n",
    "            'growth_rate': 0.0001,  # (elements/ms)\n",
    "            'continuous': False,\n",
    "            'eta': 0.0,  # Ca2+\n",
    "            'eps': self.growth_curve_i_e['eps']  # Ca2+\n",
    "        }\n",
    "\n",
    "        # Now we specify the neuron model.\n",
    "\n",
    "        self.model_params = {'tau_m': 10.0,  # membrane time constant (ms)\n",
    "                             # excitatory synaptic time constant (ms)\n",
    "                             'tau_syn_ex': 0.5,\n",
    "                             # inhibitory synaptic time constant (ms)\n",
    "                             'tau_syn_in': 0.5,\n",
    "                             't_ref': 2.0,  # absolute refractory period (ms)\n",
    "                             'E_L': -65.0,  # resting membrane potential (mV)\n",
    "                             'V_th': -50.0,  # spike threshold (mV)\n",
    "                             'C_m': 250.0,  # membrane capacitance (pF)\n",
    "                             'V_reset': -65.0  # reset potential (mV)\n",
    "                             }\n",
    "\n",
    "        self.nodes_e = None\n",
    "        self.nodes_i = None\n",
    "        self.mean_ca_e = []\n",
    "        self.mean_ca_i = []\n",
    "        self.total_connections_e = []\n",
    "        self.total_connections_i = []\n",
    "\n",
    "        self.psc_e = 585.0\n",
    "        self.psc_i = -585.0\n",
    "        self.psc_ext = 6.2\n",
    "\n",
    "    def prepare_simulation(self):\n",
    "        nest.ResetKernel()\n",
    "        nest.set_verbosity('M_ERROR')\n",
    "\n",
    "        nest.resolution = self.dt\n",
    "\n",
    "        nest.structural_plasticity_update_interval = self.update_interval\n",
    "\n",
    "        nest.CopyModel('static_synapse', 'synapse_ex')\n",
    "        nest.SetDefaults('synapse_ex', {'weight': self.psc_e, 'delay': 1.0})\n",
    "        nest.CopyModel('static_synapse', 'synapse_in')\n",
    "        nest.SetDefaults('synapse_in', {'weight': self.psc_i, 'delay': 1.0})\n",
    "        nest.structural_plasticity_synapses = {\n",
    "            'synapse_ex': {\n",
    "                'synapse_model': 'synapse_ex',\n",
    "                'post_synaptic_element': 'Den_ex',\n",
    "                'pre_synaptic_element': 'Axon_ex'\n",
    "            },\n",
    "            'synapse_in': {\n",
    "                'synapse_model': 'synapse_in',\n",
    "                'post_synaptic_element': 'Den_in',\n",
    "                'pre_synaptic_element': 'Axon_in'\n",
    "            }\n",
    "        }\n",
    "\n",
    "    def create_nodes(self):\n",
    "        \"\"\"\n",
    "        Assign growth curves to synaptic elements\n",
    "        \"\"\"\n",
    "\n",
    "        synaptic_elements = {\n",
    "            'Den_ex': self.growth_curve_e_e,\n",
    "            'Den_in': self.growth_curve_e_i,\n",
    "            'Axon_ex': self.growth_curve_e_e,\n",
    "        }\n",
    "\n",
    "        synaptic_elements_i = {\n",
    "            'Den_ex': self.growth_curve_i_e,\n",
    "            'Den_in': self.growth_curve_i_i,\n",
    "            'Axon_in': self.growth_curve_i_i,\n",
    "        }\n",
    "\n",
    "        self.nodes_e = nest.Create('iaf_psc_alpha',\n",
    "                                   self.number_excitatory_neurons,\n",
    "                                   {'synaptic_elements': synaptic_elements})\n",
    "\n",
    "        self.nodes_i = nest.Create('iaf_psc_alpha',\n",
    "                                   self.number_inhibitory_neurons,\n",
    "                                   {'synaptic_elements': synaptic_elements_i})\n",
    "        self.nodes_e.synaptic_elements = synaptic_elements\n",
    "        self.nodes_i.synaptic_elements = synaptic_elements_i\n",
    "        \n",
    "        self.sr_e = nest.Create('spike_recorder')\n",
    "        self.sr_i = nest.Create('spike_recorder')\n",
    "        \n",
    "        nest.Connect(self.nodes_e, self.sr_e)\n",
    "        nest.Connect(self.nodes_i, self.sr_i)\n",
    "\n",
    "    def connect_external_input(self):\n",
    "        \"\"\"\n",
    "        We create and connect the Poisson generator for external input\n",
    "        \"\"\"\n",
    "        noise = nest.Create('poisson_generator')\n",
    "        noise.rate = self.bg_rate\n",
    "        nest.Connect(noise, self.nodes_e, 'all_to_all',\n",
    "                     {'weight': self.psc_ext, 'delay': 1.0})\n",
    "        nest.Connect(noise, self.nodes_i, 'all_to_all',\n",
    "                     {'weight': self.psc_ext, 'delay': 1.0})\n",
    "\n",
    "    ####################################################################################\n",
    "    # In order to save the amount of average calcium concentration in each\n",
    "    # population through time we create the function ``record_ca``. Here we use\n",
    "    # the value of `Ca` for every neuron in the network and then\n",
    "    # store the average.\n",
    "    def record_ca(self):\n",
    "        ca_e = self.nodes_e.Ca,  # Calcium concentration\n",
    "        self.mean_ca_e.append(numpy.mean(ca_e))\n",
    "\n",
    "        ca_i = self.nodes_i.Ca,  # Calcium concentration\n",
    "        self.mean_ca_i.append(numpy.mean(ca_i))\n",
    "\n",
    "    ####################################################################################\n",
    "    # In order to save the state of the connectivity in the network through time\n",
    "    # we create the function ``record_connectivity``. Here we retrieve the number\n",
    "    # of connected pre-synaptic elements of each neuron. The total amount of\n",
    "    # excitatory connections is equal to the total amount of connected excitatory\n",
    "    # pre-synaptic elements. The same applies for inhibitory connections.\n",
    "    def record_connectivity(self):\n",
    "        syn_elems_e = self.nodes_e.synaptic_elements\n",
    "        syn_elems_i = self.nodes_i.synaptic_elements\n",
    "        self.total_connections_e.append(sum(neuron['Axon_ex']['z_connected']\n",
    "                                            for neuron in syn_elems_e))\n",
    "        self.total_connections_i.append(sum(neuron['Axon_in']['z_connected']\n",
    "                                            for neuron in syn_elems_i))\n",
    "\n",
    "    ####################################################################################\n",
    "    # We define a function to plot the recorded values\n",
    "    # at the end of the simulation.\n",
    "    def plot_data(self):\n",
    "        fig, ax1 = plt.subplots()\n",
    "        ax1.axhline(self.growth_curve_e_e['eps'],\n",
    "                    linewidth=4.0, color='#9999FF')\n",
    "        ax1.plot(self.mean_ca_e, 'b',\n",
    "                 label='Ca Concentration Excitatory Neurons', linewidth=2.0)\n",
    "        ax1.axhline(self.growth_curve_i_e['eps'],\n",
    "                    linewidth=4.0, color='#FF9999')\n",
    "        ax1.plot(self.mean_ca_i, 'r',\n",
    "                 label='Ca Concentration Inhibitory Neurons', linewidth=2.0)\n",
    "        ax1.set_ylim([0, 0.275])\n",
    "        ax1.set_xlabel(\"Time in [s]\")\n",
    "        ax1.set_ylabel(\"Ca concentration\")\n",
    "        ax2 = ax1.twinx()\n",
    "        ax2.plot(self.total_connections_e, 'm',\n",
    "                 label='Excitatory connections', linewidth=2.0, linestyle='--')\n",
    "        ax2.plot(self.total_connections_i, 'k',\n",
    "                 label='Inhibitory connections', linewidth=2.0, linestyle='--')\n",
    "        ax2.set_ylim([0, 2500])\n",
    "        ax2.set_ylabel(\"Connections\")\n",
    "        ax1.legend(loc=1)\n",
    "        ax2.legend(loc=4)\n",
    "        plt.savefig('StructuralPlasticityExample.eps', format='eps')\n",
    "\n",
    "    ####################################################################################\n",
    "    # It is time to specify how we want to perform the simulation. In this\n",
    "    # function we first enable structural plasticity in the network and then we\n",
    "    # simulate in steps. On each step we record the calcium concentration and the\n",
    "    # connectivity. At the end of the simulation, the plot of connections and\n",
    "    # calcium concentration through time is generated.\n",
    "    def simulate(self):\n",
    "        if nest.NumProcesses() > 1:\n",
    "            sys.exit(\"For simplicity, this example only works \" +\n",
    "                     \"for a single process.\")\n",
    "        nest.EnableStructuralPlasticity()\n",
    "        print(\"Starting simulation\")\n",
    "        sim_steps = numpy.arange(0, self.t_sim, self.record_interval)\n",
    "        for i, step in enumerate(sim_steps):\n",
    "            nest.Simulate(self.record_interval)\n",
    "            self.record_ca()\n",
    "            self.record_connectivity()\n",
    "            if i % 20 == 0:\n",
    "                print(\"Progress: \" + str(i / 2) + \"%\")\n",
    "        print(\"Simulation finished successfully\")"
   ]
  },
  {
   "cell_type": "code",
   "execution_count": 43,
   "metadata": {},
   "outputs": [
    {
     "name": "stdout",
     "output_type": "stream",
     "text": [
      "Starting simulation\n",
      "Progress: 0.0%\n",
      "Progress: 10.0%\n",
      "Progress: 20.0%\n",
      "Progress: 30.0%\n",
      "Progress: 40.0%\n",
      "Progress: 50.0%\n",
      "Progress: 60.0%\n",
      "Progress: 70.0%\n",
      "Progress: 80.0%\n",
      "Progress: 90.0%\n"
     ]
    },
    {
     "name": "stderr",
     "output_type": "stream",
     "text": [
      "The PostScript backend does not support transparency; partially transparent artists will be rendered opaque.\n"
     ]
    },
    {
     "name": "stdout",
     "output_type": "stream",
     "text": [
      "Simulation finished successfully\n"
     ]
    },
    {
     "data": {
      "image/png": "[encoded data removed]",
      "text/plain": [
       "<Figure size 432x288 with 2 Axes>"
      ]
     },
     "metadata": {
      "needs_background": "light"
     },
     "output_type": "display_data"
    }
   ],
   "source": [
    "if __name__ == '__main__':\n",
    "    example = StructralPlasticityExample()\n",
    "    # Prepare simulation\n",
    "    example.prepare_simulation()\n",
    "    example.create_nodes()\n",
    "    example.connect_external_input()\n",
    "    # Start simulation\n",
    "    example.simulate()\n",
    "    example.plot_data()"
   ]
  },
  {
   "cell_type": "markdown",
   "metadata": {},
   "source": [
    "the solution to oscillation is to have better damping"
   ]
  },
  {
   "cell_type": "code",
   "execution_count": 28,
   "metadata": {},
   "outputs": [
    {
     "data": {
      "text/plain": [
       "{'element_type': 'recorder',\n",
       " 'events': {'senders': array([565, 424, 115, ..., 551, 604, 607]),\n",
       "  'times': array([2.560000e+01, 3.060000e+01, 3.120000e+01, ..., 1.999992e+05,\n",
       "         1.999996e+05, 1.999995e+05])},\n",
       " 'frozen': False,\n",
       " 'global_id': 1001,\n",
       " 'label': '',\n",
       " 'local': True,\n",
       " 'model': 'spike_recorder',\n",
       " 'n_events': 985623,\n",
       " 'node_uses_wfr': False,\n",
       " 'origin': 0.0,\n",
       " 'record_to': 'memory',\n",
       " 'start': 0.0,\n",
       " 'stop': 1.7976931348623157e+308,\n",
       " 'thread': 0,\n",
       " 'thread_local_id': 1000,\n",
       " 'time_in_steps': False,\n",
       " 'vp': 0}"
      ]
     },
     "execution_count": 28,
     "metadata": {},
     "output_type": "execute_result"
    }
   ],
   "source": [
    "example.sr_e.get()"
   ]
  },
  {
   "cell_type": "code",
   "execution_count": 44,
   "metadata": {},
   "outputs": [
    {
     "data": {
      "text/plain": [
       "19.120035"
      ]
     },
     "execution_count": 44,
     "metadata": {},
     "output_type": "execute_result"
    }
   ],
   "source": [
    "example.sr_e.get()['n_events'] / example.t_sim"
   ]
  },
  {
   "cell_type": "code",
   "execution_count": 45,
   "metadata": {},
   "outputs": [
    {
     "data": {
      "text/plain": [
       "9.44678"
      ]
     },
     "execution_count": 45,
     "metadata": {},
     "output_type": "execute_result"
    }
   ],
   "source": [
    "example.sr_i.get()['n_events'] / example.t_sim"
   ]
  }
 ],
 "metadata": {
  "kernelspec": {
   "display_name": "Python 3 (ipykernel)",
   "language": "python",
   "name": "python3"
  },
  "language_info": {
   "codemirror_mode": {
    "name": "ipython",
    "version": 3
   },
   "file_extension": ".py",
   "mimetype": "text/x-python",
   "name": "python",
   "nbconvert_exporter": "python",
   "pygments_lexer": "ipython3",
   "version": "3.9.7"
  }
 },
 "nbformat": 4,
 "nbformat_minor": 1
}
